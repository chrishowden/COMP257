{
 "cells": [
  {
   "cell_type": "markdown",
   "metadata": {
    "slideshow": {
     "slide_type": "slide"
    }
   },
   "source": [
    "# Agenda \n",
    "\n",
    "- Some notes on Python coding style and use of modules\n",
    "- Correlation and causation\n",
    "- Hypothesis testing\n",
    "- Good Graphics?\n"
   ]
  },
  {
   "cell_type": "code",
   "execution_count": 1,
   "metadata": {
    "slideshow": {
     "slide_type": "slide"
    }
   },
   "outputs": [],
   "source": [
    "import pandas as pd\n",
    "import numpy as np\n",
    "import seaborn as sns\n",
    "import matplotlib.pyplot as plt\n",
    "%matplotlib inline"
   ]
  },
  {
   "cell_type": "markdown",
   "metadata": {
    "slideshow": {
     "slide_type": "slide"
    }
   },
   "source": [
    "## Using Python Modules\n",
    "\n",
    "Last week I had the following code in my notebook for the lecture to read in an XML file to a data frame.  Having this code inline like this is good for my lectures since I want to show you the code, but in general it looks messy. \n",
    "\n",
    "It's also a potentially re-usable bit of code that I might want to use in other notebooks or later on in this same notebook to read an XML file.  \n",
    "\n",
    "A better option is to use a separate Python file that we import into this notebook, and to write the code as a function in that file that we can use here.  \n",
    "\n",
    "Let's refactor this code to do this..."
   ]
  },
  {
   "cell_type": "code",
   "execution_count": 2,
   "metadata": {
    "slideshow": {
     "slide_type": "slide"
    }
   },
   "outputs": [],
   "source": [
    "# here is the original code block\n",
    "import xml.etree.ElementTree as ET\n",
    "\n",
    "tree = ET.parse('files/sample.xml')\n",
    "root = tree.getroot()\n",
    "data = []\n",
    "for row in root:\n",
    "    # create a dictionary for each row\n",
    "    datarow = {}\n",
    "    for child in row:\n",
    "        # dictionary key is the tag name, value is the text in the tag\n",
    "        datarow[child.tag] = child.text\n",
    "    data.append(datarow)\n",
    "\n",
    "# now make a dataframe from this list of dictionaries\n",
    "df = pd.DataFrame(data)\n",
    "# sort on date\n",
    "df = df.sort_values('Date')\n",
    "# create a series from the dates as datetimes\n",
    "dates = pd.to_datetime(df.Date)\n",
    "# make this the index of the dataframe\n",
    "df.index = dates\n",
    "# remove the Date column (axis=1 means we're dropping a column, not rows)\n",
    "df.drop('Date', axis=1, inplace=True)"
   ]
  },
  {
   "cell_type": "code",
   "execution_count": 3,
   "metadata": {
    "slideshow": {
     "slide_type": "slide"
    }
   },
   "outputs": [
    {
     "data": {
      "text/html": [
       "<div>\n",
       "<style scoped>\n",
       "    .dataframe tbody tr th:only-of-type {\n",
       "        vertical-align: middle;\n",
       "    }\n",
       "\n",
       "    .dataframe tbody tr th {\n",
       "        vertical-align: top;\n",
       "    }\n",
       "\n",
       "    .dataframe thead th {\n",
       "        text-align: right;\n",
       "    }\n",
       "</style>\n",
       "<table border=\"1\" class=\"dataframe\">\n",
       "  <thead>\n",
       "    <tr style=\"text-align: right;\">\n",
       "      <th></th>\n",
       "      <th>Amount</th>\n",
       "      <th>City</th>\n",
       "      <th>Name</th>\n",
       "    </tr>\n",
       "    <tr>\n",
       "      <th>Date</th>\n",
       "      <th></th>\n",
       "      <th></th>\n",
       "      <th></th>\n",
       "    </tr>\n",
       "  </thead>\n",
       "  <tbody>\n",
       "    <tr>\n",
       "      <th>2016-08-24 08:35:12</th>\n",
       "      <td>97.98</td>\n",
       "      <td>Neumünster</td>\n",
       "      <td>Tanya</td>\n",
       "    </tr>\n",
       "    <tr>\n",
       "      <th>2016-08-27 03:56:02</th>\n",
       "      <td>99.04</td>\n",
       "      <td>Rovereto</td>\n",
       "      <td>Molly</td>\n",
       "    </tr>\n",
       "    <tr>\n",
       "      <th>2016-09-06 08:58:15</th>\n",
       "      <td>99.27</td>\n",
       "      <td>Rovereto</td>\n",
       "      <td>Aiko</td>\n",
       "    </tr>\n",
       "    <tr>\n",
       "      <th>2016-09-10 21:10:12</th>\n",
       "      <td>96.53</td>\n",
       "      <td>Westkerke</td>\n",
       "      <td>Dante</td>\n",
       "    </tr>\n",
       "    <tr>\n",
       "      <th>2016-09-12 22:32:09</th>\n",
       "      <td>107.23</td>\n",
       "      <td>Pointe-aux-Trembles</td>\n",
       "      <td>Sydney</td>\n",
       "    </tr>\n",
       "  </tbody>\n",
       "</table>\n",
       "</div>"
      ],
      "text/plain": [
       "                     Amount                 City    Name\n",
       "Date                                                    \n",
       "2016-08-24 08:35:12   97.98           Neumünster   Tanya\n",
       "2016-08-27 03:56:02   99.04             Rovereto   Molly\n",
       "2016-09-06 08:58:15   99.27             Rovereto    Aiko\n",
       "2016-09-10 21:10:12   96.53            Westkerke   Dante\n",
       "2016-09-12 22:32:09  107.23  Pointe-aux-Trembles  Sydney"
      ]
     },
     "execution_count": 3,
     "metadata": {},
     "output_type": "execute_result"
    }
   ],
   "source": [
    "# refactored by copying to a file utils.py and defining a function \n",
    "# readxml that we import here\n",
    "\n",
    "from utils import readxml\n",
    "\n",
    "df = readxml('files/sample.xml')\n",
    "# let's take a look\n",
    "df.head()"
   ]
  },
  {
   "cell_type": "markdown",
   "metadata": {
    "slideshow": {
     "slide_type": "slide"
    }
   },
   "source": [
    "Things to note:\n",
    "- when you import the module into your notebook that loads the code into the Python interpreter that is running your code\n",
    "- if you change the code in your module, then re-run your notebook, it won't re-import the module, you need to re-start the interpreter via the Kernel menu (*Kernel > Restart and Run All*)\n",
    "- you can either import specific functions from your module or import the whole module\n",
    "    - *import utils* # then call utils.do_something()\n",
    "    - *from utils import do_something* # then call do_something()"
   ]
  },
  {
   "cell_type": "markdown",
   "metadata": {
    "slideshow": {
     "slide_type": "slide"
    }
   },
   "source": [
    "## Correlation\n",
    "\n",
    "Last week we looked at the relationship between ATAR and grade for some student data."
   ]
  },
  {
   "cell_type": "code",
   "execution_count": 4,
   "metadata": {
    "slideshow": {
     "slide_type": "slide"
    }
   },
   "outputs": [
    {
     "data": {
      "text/plain": [
       "<matplotlib.axes._subplots.AxesSubplot at 0x10bebd8d0>"
      ]
     },
     "execution_count": 4,
     "metadata": {},
     "output_type": "execute_result"
    },
    {
     "data": {
      "image/png": "[encoded data removed]",
      "text/plain": [
       "<Figure size 432x288 with 1 Axes>"
      ]
     },
     "metadata": {},
     "output_type": "display_data"
    }
   ],
   "source": [
    "grades = pd.read_csv(\"files/grades.csv\")\n",
    "# remove zeros\n",
    "grades = grades.drop(grades.index[(grades.Mark == 0) | (grades.ATAR == 0)])\n",
    "grades.plot('ATAR', 'Mark', kind='scatter')\n"
   ]
  },
  {
   "cell_type": "code",
   "execution_count": 5,
   "metadata": {
    "slideshow": {
     "slide_type": "slide"
    }
   },
   "outputs": [
    {
     "data": {
      "text/plain": [
       "(0, 103.20756065686282)"
      ]
     },
     "execution_count": 5,
     "metadata": {},
     "output_type": "execute_result"
    },
    {
     "data": {
      "image/png": "[encoded data removed]",
      "text/plain": [
       "<Figure size 555.25x504 with 1 Axes>"
      ]
     },
     "metadata": {},
     "output_type": "display_data"
    }
   ],
   "source": [
    "# or plot using seaborn\n",
    "sns.lmplot(x='ATAR', y='Mark', data=grades, fit_reg=False, hue=\"Grade\", size=7)\n",
    "plt.title(\"ATAR vs Mark for a Computing unit\")\n",
    "plt.ylim(0, None)\n",
    "plt.xlim(0, None)"
   ]
  },
  {
   "cell_type": "markdown",
   "metadata": {
    "slideshow": {
     "slide_type": "slide"
    }
   },
   "source": [
    "We can see from the plot that there isn't much of a relationship between these two variables. As ATAR increases, the range of values for Mark doesn't change very much.  \n",
    "\n",
    "To quantify this we can look at the **covariance** or **correlation** between the two variables.  \n"
   ]
  },
  {
   "cell_type": "markdown",
   "metadata": {
    "slideshow": {
     "slide_type": "slide"
    }
   },
   "source": [
    "## Covariance\n",
    "\n",
    "- how the two variables vary together, \n",
    "- larger values mean that the size of the mutual deviation from the mean is large\n",
    "- if two variables are totally unrelated, the covariance would be zero.\n",
    "- but the fact that covariance can be any value makes it hard to interpret:"
   ]
  },
  {
   "cell_type": "code",
   "execution_count": 6,
   "metadata": {
    "slideshow": {
     "slide_type": "fragment"
    }
   },
   "outputs": [
    {
     "data": {
      "text/html": [
       "<div>\n",
       "<style scoped>\n",
       "    .dataframe tbody tr th:only-of-type {\n",
       "        vertical-align: middle;\n",
       "    }\n",
       "\n",
       "    .dataframe tbody tr th {\n",
       "        vertical-align: top;\n",
       "    }\n",
       "\n",
       "    .dataframe thead th {\n",
       "        text-align: right;\n",
       "    }\n",
       "</style>\n",
       "<table border=\"1\" class=\"dataframe\">\n",
       "  <thead>\n",
       "    <tr style=\"text-align: right;\">\n",
       "      <th></th>\n",
       "      <th>ATAR</th>\n",
       "      <th>Mark</th>\n",
       "    </tr>\n",
       "  </thead>\n",
       "  <tbody>\n",
       "    <tr>\n",
       "      <th>ATAR</th>\n",
       "      <td>122.931200</td>\n",
       "      <td>78.932811</td>\n",
       "    </tr>\n",
       "    <tr>\n",
       "      <th>Mark</th>\n",
       "      <td>78.932811</td>\n",
       "      <td>359.535302</td>\n",
       "    </tr>\n",
       "  </tbody>\n",
       "</table>\n",
       "</div>"
      ],
      "text/plain": [
       "            ATAR        Mark\n",
       "ATAR  122.931200   78.932811\n",
       "Mark   78.932811  359.535302"
      ]
     },
     "execution_count": 6,
     "metadata": {},
     "output_type": "execute_result"
    }
   ],
   "source": [
    "grades.cov()"
   ]
  },
  {
   "cell_type": "markdown",
   "metadata": {
    "slideshow": {
     "slide_type": "slide"
    }
   },
   "source": [
    "## Correlation\n",
    "\n",
    "**Correlation** is a normalised version of covariance, standardised to between -1 and 1.  \n",
    "\n",
    "Much easier to interpret - a value of 1 (or -1) means a perfect relationship between the two variables.  The close to 1 the better the relationship.  \n",
    "\n",
    "The correlation of Mark and ATAR is 0.37 which is very low, confirming that there is no real relationship between these variables."
   ]
  },
  {
   "cell_type": "code",
   "execution_count": 7,
   "metadata": {
    "slideshow": {
     "slide_type": "fragment"
    }
   },
   "outputs": [
    {
     "data": {
      "text/html": [
       "<div>\n",
       "<style scoped>\n",
       "    .dataframe tbody tr th:only-of-type {\n",
       "        vertical-align: middle;\n",
       "    }\n",
       "\n",
       "    .dataframe tbody tr th {\n",
       "        vertical-align: top;\n",
       "    }\n",
       "\n",
       "    .dataframe thead th {\n",
       "        text-align: right;\n",
       "    }\n",
       "</style>\n",
       "<table border=\"1\" class=\"dataframe\">\n",
       "  <thead>\n",
       "    <tr style=\"text-align: right;\">\n",
       "      <th></th>\n",
       "      <th>ATAR</th>\n",
       "      <th>Mark</th>\n",
       "    </tr>\n",
       "  </thead>\n",
       "  <tbody>\n",
       "    <tr>\n",
       "      <th>ATAR</th>\n",
       "      <td>1.000000</td>\n",
       "      <td>0.373856</td>\n",
       "    </tr>\n",
       "    <tr>\n",
       "      <th>Mark</th>\n",
       "      <td>0.373856</td>\n",
       "      <td>1.000000</td>\n",
       "    </tr>\n",
       "  </tbody>\n",
       "</table>\n",
       "</div>"
      ],
      "text/plain": [
       "          ATAR      Mark\n",
       "ATAR  1.000000  0.373856\n",
       "Mark  0.373856  1.000000"
      ]
     },
     "execution_count": 7,
     "metadata": {},
     "output_type": "execute_result"
    }
   ],
   "source": [
    "grades.corr()"
   ]
  },
  {
   "cell_type": "markdown",
   "metadata": {
    "slideshow": {
     "slide_type": "slide"
    }
   },
   "source": [
    "Let's look at another dataset that shows a better correlation.  This is the [auto-mpg dataset](https://archive.ics.uci.edu/ml/datasets/Auto+MPG) from the UCI archive."
   ]
  },
  {
   "cell_type": "code",
   "execution_count": 8,
   "metadata": {
    "slideshow": {
     "slide_type": "fragment"
    }
   },
   "outputs": [
    {
     "data": {
      "text/html": [
       "<div>\n",
       "<style scoped>\n",
       "    .dataframe tbody tr th:only-of-type {\n",
       "        vertical-align: middle;\n",
       "    }\n",
       "\n",
       "    .dataframe tbody tr th {\n",
       "        vertical-align: top;\n",
       "    }\n",
       "\n",
       "    .dataframe thead th {\n",
       "        text-align: right;\n",
       "    }\n",
       "</style>\n",
       "<table border=\"1\" class=\"dataframe\">\n",
       "  <thead>\n",
       "    <tr style=\"text-align: right;\">\n",
       "      <th></th>\n",
       "      <th>mpg</th>\n",
       "      <th>cylinders</th>\n",
       "      <th>displacement</th>\n",
       "      <th>horsepower</th>\n",
       "      <th>weight</th>\n",
       "      <th>acceleration</th>\n",
       "      <th>year</th>\n",
       "      <th>origin</th>\n",
       "      <th>name</th>\n",
       "    </tr>\n",
       "  </thead>\n",
       "  <tbody>\n",
       "    <tr>\n",
       "      <th>0</th>\n",
       "      <td>18.0</td>\n",
       "      <td>8</td>\n",
       "      <td>307.0</td>\n",
       "      <td>130.0</td>\n",
       "      <td>3504.0</td>\n",
       "      <td>12.0</td>\n",
       "      <td>70</td>\n",
       "      <td>1</td>\n",
       "      <td>chevrolet chevelle malibu</td>\n",
       "    </tr>\n",
       "    <tr>\n",
       "      <th>1</th>\n",
       "      <td>15.0</td>\n",
       "      <td>8</td>\n",
       "      <td>350.0</td>\n",
       "      <td>165.0</td>\n",
       "      <td>3693.0</td>\n",
       "      <td>11.5</td>\n",
       "      <td>70</td>\n",
       "      <td>1</td>\n",
       "      <td>buick skylark 320</td>\n",
       "    </tr>\n",
       "    <tr>\n",
       "      <th>2</th>\n",
       "      <td>18.0</td>\n",
       "      <td>8</td>\n",
       "      <td>318.0</td>\n",
       "      <td>150.0</td>\n",
       "      <td>3436.0</td>\n",
       "      <td>11.0</td>\n",
       "      <td>70</td>\n",
       "      <td>1</td>\n",
       "      <td>plymouth satellite</td>\n",
       "    </tr>\n",
       "    <tr>\n",
       "      <th>3</th>\n",
       "      <td>16.0</td>\n",
       "      <td>8</td>\n",
       "      <td>304.0</td>\n",
       "      <td>150.0</td>\n",
       "      <td>3433.0</td>\n",
       "      <td>12.0</td>\n",
       "      <td>70</td>\n",
       "      <td>1</td>\n",
       "      <td>amc rebel sst</td>\n",
       "    </tr>\n",
       "    <tr>\n",
       "      <th>4</th>\n",
       "      <td>17.0</td>\n",
       "      <td>8</td>\n",
       "      <td>302.0</td>\n",
       "      <td>140.0</td>\n",
       "      <td>3449.0</td>\n",
       "      <td>10.5</td>\n",
       "      <td>70</td>\n",
       "      <td>1</td>\n",
       "      <td>ford torino</td>\n",
       "    </tr>\n",
       "  </tbody>\n",
       "</table>\n",
       "</div>"
      ],
      "text/plain": [
       "    mpg  cylinders  displacement  horsepower  weight  acceleration  year  \\\n",
       "0  18.0          8         307.0       130.0  3504.0          12.0    70   \n",
       "1  15.0          8         350.0       165.0  3693.0          11.5    70   \n",
       "2  18.0          8         318.0       150.0  3436.0          11.0    70   \n",
       "3  16.0          8         304.0       150.0  3433.0          12.0    70   \n",
       "4  17.0          8         302.0       140.0  3449.0          10.5    70   \n",
       "\n",
       "   origin                       name  \n",
       "0       1  chevrolet chevelle malibu  \n",
       "1       1          buick skylark 320  \n",
       "2       1         plymouth satellite  \n",
       "3       1              amc rebel sst  \n",
       "4       1                ford torino  "
      ]
     },
     "execution_count": 8,
     "metadata": {},
     "output_type": "execute_result"
    }
   ],
   "source": [
    "names = ['mpg', 'cylinders', 'displacement', 'horsepower', 'weight', 'acceleration', 'year', 'origin', 'name']\n",
    "autompg = pd.read_csv('files/auto-mpg.data', delim_whitespace=True, names=names)\n",
    "autompg.head()"
   ]
  },
  {
   "cell_type": "code",
   "execution_count": 9,
   "metadata": {
    "slideshow": {
     "slide_type": "slide"
    }
   },
   "outputs": [
    {
     "data": {
      "text/plain": [
       "<seaborn.axisgrid.FacetGrid at 0x1a17f337b8>"
      ]
     },
     "execution_count": 9,
     "metadata": {},
     "output_type": "execute_result"
    },
    {
     "data": {
      "image/png": "[encoded data removed]",
      "text/plain": [
       "<Figure size 504x504 with 1 Axes>"
      ]
     },
     "metadata": {},
     "output_type": "display_data"
    }
   ],
   "source": [
    "sns.lmplot(x='mpg', y='weight', data=autompg, fit_reg=False, size=7)"
   ]
  },
  {
   "cell_type": "markdown",
   "metadata": {
    "slideshow": {
     "slide_type": "slide"
    }
   },
   "source": [
    "We can see from the plot an more obvious negative relationship between *mpg* and *weight* - heavier cars use more fuel. \n",
    "\n",
    "The correlation is -0.83 which is close to -1 and shows a high negative correlation.  "
   ]
  },
  {
   "cell_type": "code",
   "execution_count": 10,
   "metadata": {
    "slideshow": {
     "slide_type": "fragment"
    }
   },
   "outputs": [
    {
     "data": {
      "text/html": [
       "<div>\n",
       "<style scoped>\n",
       "    .dataframe tbody tr th:only-of-type {\n",
       "        vertical-align: middle;\n",
       "    }\n",
       "\n",
       "    .dataframe tbody tr th {\n",
       "        vertical-align: top;\n",
       "    }\n",
       "\n",
       "    .dataframe thead th {\n",
       "        text-align: right;\n",
       "    }\n",
       "</style>\n",
       "<table border=\"1\" class=\"dataframe\">\n",
       "  <thead>\n",
       "    <tr style=\"text-align: right;\">\n",
       "      <th></th>\n",
       "      <th>mpg</th>\n",
       "      <th>cylinders</th>\n",
       "      <th>displacement</th>\n",
       "      <th>horsepower</th>\n",
       "      <th>weight</th>\n",
       "      <th>acceleration</th>\n",
       "      <th>year</th>\n",
       "      <th>origin</th>\n",
       "    </tr>\n",
       "  </thead>\n",
       "  <tbody>\n",
       "    <tr>\n",
       "      <th>mpg</th>\n",
       "      <td>1.000000</td>\n",
       "      <td>-0.777618</td>\n",
       "      <td>-0.805127</td>\n",
       "      <td>-0.778427</td>\n",
       "      <td>-0.832244</td>\n",
       "      <td>0.423329</td>\n",
       "      <td>0.580541</td>\n",
       "      <td>0.565209</td>\n",
       "    </tr>\n",
       "    <tr>\n",
       "      <th>cylinders</th>\n",
       "      <td>-0.777618</td>\n",
       "      <td>1.000000</td>\n",
       "      <td>0.950823</td>\n",
       "      <td>0.842983</td>\n",
       "      <td>0.897527</td>\n",
       "      <td>-0.504683</td>\n",
       "      <td>-0.345647</td>\n",
       "      <td>-0.568932</td>\n",
       "    </tr>\n",
       "    <tr>\n",
       "      <th>displacement</th>\n",
       "      <td>-0.805127</td>\n",
       "      <td>0.950823</td>\n",
       "      <td>1.000000</td>\n",
       "      <td>0.897257</td>\n",
       "      <td>0.932994</td>\n",
       "      <td>-0.543800</td>\n",
       "      <td>-0.369855</td>\n",
       "      <td>-0.614535</td>\n",
       "    </tr>\n",
       "    <tr>\n",
       "      <th>horsepower</th>\n",
       "      <td>-0.778427</td>\n",
       "      <td>0.842983</td>\n",
       "      <td>0.897257</td>\n",
       "      <td>1.000000</td>\n",
       "      <td>0.864538</td>\n",
       "      <td>-0.689196</td>\n",
       "      <td>-0.416361</td>\n",
       "      <td>-0.455171</td>\n",
       "    </tr>\n",
       "    <tr>\n",
       "      <th>weight</th>\n",
       "      <td>-0.832244</td>\n",
       "      <td>0.897527</td>\n",
       "      <td>0.932994</td>\n",
       "      <td>0.864538</td>\n",
       "      <td>1.000000</td>\n",
       "      <td>-0.416839</td>\n",
       "      <td>-0.309120</td>\n",
       "      <td>-0.585005</td>\n",
       "    </tr>\n",
       "    <tr>\n",
       "      <th>acceleration</th>\n",
       "      <td>0.423329</td>\n",
       "      <td>-0.504683</td>\n",
       "      <td>-0.543800</td>\n",
       "      <td>-0.689196</td>\n",
       "      <td>-0.416839</td>\n",
       "      <td>1.000000</td>\n",
       "      <td>0.290316</td>\n",
       "      <td>0.212746</td>\n",
       "    </tr>\n",
       "    <tr>\n",
       "      <th>year</th>\n",
       "      <td>0.580541</td>\n",
       "      <td>-0.345647</td>\n",
       "      <td>-0.369855</td>\n",
       "      <td>-0.416361</td>\n",
       "      <td>-0.309120</td>\n",
       "      <td>0.290316</td>\n",
       "      <td>1.000000</td>\n",
       "      <td>0.181528</td>\n",
       "    </tr>\n",
       "    <tr>\n",
       "      <th>origin</th>\n",
       "      <td>0.565209</td>\n",
       "      <td>-0.568932</td>\n",
       "      <td>-0.614535</td>\n",
       "      <td>-0.455171</td>\n",
       "      <td>-0.585005</td>\n",
       "      <td>0.212746</td>\n",
       "      <td>0.181528</td>\n",
       "      <td>1.000000</td>\n",
       "    </tr>\n",
       "  </tbody>\n",
       "</table>\n",
       "</div>"
      ],
      "text/plain": [
       "                   mpg  cylinders  displacement  horsepower    weight  \\\n",
       "mpg           1.000000  -0.777618     -0.805127   -0.778427 -0.832244   \n",
       "cylinders    -0.777618   1.000000      0.950823    0.842983  0.897527   \n",
       "displacement -0.805127   0.950823      1.000000    0.897257  0.932994   \n",
       "horsepower   -0.778427   0.842983      0.897257    1.000000  0.864538   \n",
       "weight       -0.832244   0.897527      0.932994    0.864538  1.000000   \n",
       "acceleration  0.423329  -0.504683     -0.543800   -0.689196 -0.416839   \n",
       "year          0.580541  -0.345647     -0.369855   -0.416361 -0.309120   \n",
       "origin        0.565209  -0.568932     -0.614535   -0.455171 -0.585005   \n",
       "\n",
       "              acceleration      year    origin  \n",
       "mpg               0.423329  0.580541  0.565209  \n",
       "cylinders        -0.504683 -0.345647 -0.568932  \n",
       "displacement     -0.543800 -0.369855 -0.614535  \n",
       "horsepower       -0.689196 -0.416361 -0.455171  \n",
       "weight           -0.416839 -0.309120 -0.585005  \n",
       "acceleration      1.000000  0.290316  0.212746  \n",
       "year              0.290316  1.000000  0.181528  \n",
       "origin            0.212746  0.181528  1.000000  "
      ]
     },
     "execution_count": 10,
     "metadata": {},
     "output_type": "execute_result"
    }
   ],
   "source": [
    "autompg.corr()"
   ]
  },
  {
   "cell_type": "markdown",
   "metadata": {
    "slideshow": {
     "slide_type": "slide"
    }
   },
   "source": [
    "## Correlation and Causation\n",
    "\n",
    "When we look for a correlation between two variables we are often looking to see if we can find evidence for some kind of causal relationship.   Does having a higher ATAR mean that you will are smart and will pass this course? Does adding weight to a car make it use more petrol? \n",
    "\n",
    "In this case, we can say definitely not for the first question and *maybe* for the second.\n",
    "\n",
    "We need to be careful in drawing inferences even when a correlation is observed.  In the example of the cars, the weight may be a factor in using more fuel but we could also look at the size of the engine - bigger engines will weigh more - and other factors that might affect fuel use.  \n"
   ]
  },
  {
   "cell_type": "markdown",
   "metadata": {
    "slideshow": {
     "slide_type": "subslide"
    }
   },
   "source": [
    "Here's a discussion [from the Computation and Inferential Thinking text](https://www.inferentialthinking.com/chapters/02/causality-and-experiments.html):\n",
    "\n",
    ">Observation is a key to good science. An **observational study** is one in which scientists make conclusions based on data that they have observed but had no hand in generating. In data science, many such studies involve observations on a group of individuals, a factor of interest called a **treatment**, and an **outcome** measured on each individual.\n",
    "\n"
   ]
  },
  {
   "cell_type": "markdown",
   "metadata": {
    "slideshow": {
     "slide_type": "subslide"
    }
   },
   "source": [
    ">It is easiest to think of the **individuals** as people. In a study of whether chocolate is good for the health, the individuals would indeed be people, the treatment would be **eating chocolate**, and the outcome might be a measure of **blood pressure**. But individuals in observational studies need not be people. In a study of whether the death penalty has a deterrent effect, the individuals could be the **50 states of the union**. A state law **allowing the death penalty** would be the treatment, and an outcome could be the state’s **murder rate**.\n",
    "    "
   ]
  },
  {
   "cell_type": "markdown",
   "metadata": {
    "slideshow": {
     "slide_type": "subslide"
    }
   },
   "source": [
    "\n",
    ">The fundamental question is whether the treatment has an effect on the outcome. Any relation between the treatment and the outcome is called an **association**. If the treatment causes the outcome to occur, then the association is **causal**. Causality is at the heart of all three questions posed at the start of this section. For example, one of the questions was whether chocolate directly causes improvements in health, not just whether there there is a relation between chocolate and health."
   ]
  },
  {
   "cell_type": "markdown",
   "metadata": {
    "slideshow": {
     "slide_type": "slide"
    }
   },
   "source": [
    "\n",
    "### Confounding Factors\n",
    "\n",
    "To establish causality we first need to observe a correlation, but then we need to be sure that this is not due to some **confounding** factor: a variable that we have not measured or understood, that accounts for the association we observe.  "
   ]
  },
  {
   "cell_type": "markdown",
   "metadata": {
    "slideshow": {
     "slide_type": "subslide"
    }
   },
   "source": [
    "Again from [C&I Thinking](https://www.inferentialthinking.com/chapters/02/3/establishing-causality.html):\n",
    "\n",
    ">**Example: Coffee and lung cancer.** Studies in the 1960’s showed that coffee drinkers had higher rates of lung cancer than those who did not drink coffee. Because of this, some people identified coffee as a cause of lung cancer. But coffee does not cause lung cancer. The analysis contained a confounding factor – smoking. In those days, coffee drinkers were also likely to have been smokers, and smoking does cause lung cancer. Coffee drinking was associated with lung cancer, but it did not cause the disease."
   ]
  },
  {
   "cell_type": "markdown",
   "metadata": {
    "slideshow": {
     "slide_type": "slide"
    }
   },
   "source": [
    "## Randomisation\n",
    "\n",
    "One defence against confounding factors in experiments is to select the treatment and control groups at random from a larger population. If we suspect that some other factors may be important, we can ensure that the two groups are balanced for that factor.  For example, we might ensure that there are equal numbers of males and females in each group.  Selecting people at random is a way of doing this.\n",
    "\n",
    " "
   ]
  },
  {
   "cell_type": "markdown",
   "metadata": {
    "slideshow": {
     "slide_type": "subslide"
    }
   },
   "source": [
    "A **blind** randomised trial is one where the members of each group don't know which group they are in. Are they getting a treatment or not? In a medical setting this would involve the use of a **placebo** - it is well known that people will often feel better just because they know they are being treated.\n",
    "\n"
   ]
  },
  {
   "cell_type": "markdown",
   "metadata": {
    "slideshow": {
     "slide_type": "subslide"
    }
   },
   "source": [
    "A **double blind** trial is one where the researchers don't know which group people are in either. This prevents any effects where the researcher might unconciously influence the outcome of the experiment.  Obviously in some cases, double blind is not feasible."
   ]
  },
  {
   "cell_type": "markdown",
   "metadata": {
    "slideshow": {
     "slide_type": "slide"
    }
   },
   "source": [
    "## Theory and Explanation\n",
    "\n",
    "While we can establish an association between a treatment and an outcome, and eliminate as many confounding factors as we understand, we become more convinced of the argument for a causal link if there is also a good theoretical explanation for what is observed.  This might be based on simple Physics (more weight means more fuel) or on a complex biological explanation of a disease phenomenon (smoking causes cancer).  \n",
    "\n",
    "The theory is strenthened by the observations, but a good theory will also make **predictions** that can be tested in future experiments.  Thinking back to our earlier discussion of the **science** in **data science**: a good theory should be falsifiable, there should be an experiment you can do that if it failed, would disprove the theory.  All of this goes together to give us sound explanations for what we see around us and advance our knowledge.\n"
   ]
  },
  {
   "cell_type": "markdown",
   "metadata": {
    "slideshow": {
     "slide_type": "slide"
    }
   },
   "source": [
    "## Summary\n",
    "\n",
    "- Correlation is a measure of the association between two variables\n",
    "- In an experiment, we collect data generally trying to establish a causal relationship \n",
    "- Confounding factors can mean that an association is observed when there is no causal link\n",
    "- To gather evidence for causality, we need more than an observed relationship, we need to exclude confounding factors and to provide some kind of theoretical explanation"
   ]
  },
  {
   "cell_type": "markdown",
   "metadata": {
    "slideshow": {
     "slide_type": "slide"
    }
   },
   "source": [
    "## Hypothesis Testing\n",
    "\n",
    "(Textbook Section 4.4)\n",
    "\n",
    "In an experiment we might observe a difference in the outcome for the control and treatment groups - high ATAR students might get higher grades on average than low ATAR students for example.  This difference could be due to a real difference between these groups, or it could be just happening by chance.  We may have accidentally chosen some really good high ATAR students and some really poor low ATAR students.  How can we be sure of our conclusion?\n",
    "\n"
   ]
  },
  {
   "cell_type": "markdown",
   "metadata": {
    "slideshow": {
     "slide_type": "subslide"
    }
   },
   "source": [
    "\n",
    "Hypothesis testing is a method of measuring the liklihood that an observed difference occured by chance.\n",
    "\n",
    "It can be used in cases where we have two samples from a population that we believe are different - because we gave them different medicines or because they differ by some factor we think is causally related to the outcome (older, smarter, richer). \n",
    "\n",
    "Define a **null hypothesis** that the populations are really the same.  Aim to **reject the null hypothesis** by showing that this could only happen with a very low probability."
   ]
  },
  {
   "cell_type": "markdown",
   "metadata": {
    "slideshow": {
     "slide_type": "subslide"
    }
   },
   "source": [
    "One measure used is the *p-value* which is the probability that the observed difference could occur at random. I recommend you read the textbook section (4.4) which provides a nice explanation of this. The basic idea they describe is:\n",
    "\n",
    "- from the overall population (the two groups pooled together), draw samples of size N\n",
    "- compute the difference between the mean of this sample and the overall mean\n",
    "- count how many times the difference is larger than the one we observe overall between the two groups\n"
   ]
  },
  {
   "cell_type": "markdown",
   "metadata": {
    "slideshow": {
     "slide_type": "subslide"
    }
   },
   "source": [
    "\n",
    "If we can find lots of cases where the sample we draw has a larger difference from the mean, then the difference we observe is likely to be just a random effect.   If it hardly ever happens, then the difference we observe might be a significant one. \n",
    "\n",
    "It is common to set a threshold of 5% for significance.  If the p value is less than 0.05 we say that the observed difference is unlikely to occur at random and so is likely to be due to a real effect.  We **reject the null hypothesis** that these distributions are the same."
   ]
  },
  {
   "cell_type": "markdown",
   "metadata": {
    "slideshow": {
     "slide_type": "slide"
    }
   },
   "source": [
    "## Visualisation\n",
    "\n",
    "An exercise in critical analysis of data visualisation\n",
    "\n",
    "<a href=\"files/bad-graphs.png\"><img src=\"files/bad-graphs.png\" width=60%></a>\n",
    "\n",
    "For each of these graphs there is something wrong or some major criticism that has been made of the graph. Can you identify the issue(s) in each case? How would the graphs be improved? [source](http://www.statisticshowto.com/misleading-graphs/).\n",
    "\n"
   ]
  },
  {
   "cell_type": "markdown",
   "metadata": {
    "slideshow": {
     "slide_type": "slide"
    }
   },
   "source": [
    "## Good Graphs?\n",
    "\n",
    "<p><a href=\"https://commons.wikimedia.org/wiki/File:Minard.png#/media/File:Minard.png\"><img src=\"https://upload.wikimedia.org/wikipedia/commons/thumb/2/29/Minard.png/1200px-Minard.png\" alt=\"Minard.png\"></a><br>By <a href=\"https://en.wikipedia.org/wiki/Charles_Minard\" class=\"extiw\" title=\"w:Charles Minard\">Charles Minard</a> (1781-1870), Public Domain, <a href=\"https://commons.wikimedia.org/w/index.php?curid=297925\">Link</a></p>\n",
    "\n"
   ]
  },
  {
   "cell_type": "markdown",
   "metadata": {
    "slideshow": {
     "slide_type": "notes"
    }
   },
   "source": [
    "\n",
    "The above is a classic example of great data visualisation - originally from 1869, showing the devastation over the march of Napoleon towards defeat in Moscow and their return home.  This chart uses graphical design to tell a story, it combines the display of multi-dimensional data with a striking graphical layout.  \n",
    "\n",
    "We can perhaps aspire to creating visualisations as good as this but doing so would require a combination of great data handling skills and an eye for good visual design.  I expect you all to master the first of these but it might be too much to expect the latter from everyone.  Even so, we can all learn to appreciate what makes a good visualisation work and what we should avoid in presenting data. \n",
    "\n",
    "The [chapter I've recommended for reading](https://link.springer.com/content/pdf/10.1007%2F978-3-540-33037-0_3.pdf) on this gives a bit of an overview of what makes for good data visualisation. \n"
   ]
  },
  {
   "cell_type": "markdown",
   "metadata": {
    "slideshow": {
     "slide_type": "slide"
    }
   },
   "source": [
    "\n",
    "## Choice of Graphical Form\n",
    "\n",
    "### Scales\n",
    "- numerical scales, common to include zero, range of values can influence interpretation\n",
    "- in a histogram, the size of bins (granularity of the scale) can obscure or reveal insights\n",
    "- scales in related graphs should be comparable\n",
    "- for categorical variables (eg. names of cities) the ordering can be influential\n"
   ]
  },
  {
   "cell_type": "markdown",
   "metadata": {
    "slideshow": {
     "slide_type": "slide"
    }
   },
   "source": [
    "\n",
    "## Overlaying Information\n",
    "- eg. overlay of smoothed mean, indications of error bars\n",
    "- overlay should aid the interpretation of the data\n",
    "- take care not to obscure data with too many additions\n",
    "\n",
    "## Captions, Legends and Annotations\n",
    "- graphs should always have labelled axes, including units where appropriate\n",
    "- legends attach labels to different parts of the graph (colours, line styles), should be on the plot (Tufte)\n",
    "- annotations should be used sparingly (see overlays) eg. Figure 2.8\n"
   ]
  },
  {
   "cell_type": "markdown",
   "metadata": {
    "slideshow": {
     "slide_type": "slide"
    }
   },
   "source": [
    "\n",
    "## Apect Ratio\n",
    "- squashing a graph one way or the other can hugely distort the presentation (Figure 2.9)\n",
    "\n",
    "## Colour\n",
    "- use of colour should take account of colour blindness [palletes for colour blindness](http://mkweb.bcgsc.ca/colorblind/) [some examples and advice](http://www.dundas.com/support/blog/visualizing-for-the-color-blind)\n",
    "- certain colours have a cultural meaning that might effect how your graphics are interpreted\n"
   ]
  },
  {
   "cell_type": "markdown",
   "metadata": {
    "slideshow": {
     "slide_type": "slide"
    }
   },
   "source": [
    "\n",
    "## Multidimensional Visualisation\n",
    "- techniques for displaying more than a simple binary relationship\n",
    "- many variables influencing different aspects of the graphic\n",
    "- is a 3D plot ever a good idea?\n",
    "- scatterplot matrix shows how pairs of variables change together (Figure 2.10)\n",
    "- trellis display arranges related graphs in a grid (Figure 2.14)\n"
   ]
  },
  {
   "cell_type": "markdown",
   "metadata": {
    "slideshow": {
     "slide_type": "slide"
    }
   },
   "source": [
    "## Maps\n",
    "- overlaying data on maps allows you to associated data points with geographical areas\n",
    "- can be misleading since size of geographic region does not relate to population\n",
    "    - see [these cartograms](http://www-personal.umich.edu/~mejn/election/2016/) showing a method for scaling geographical areas based on population.\n",
    "\n",
    "\n",
    "[Data Vizualisation Chart Types](https://eazybi.com/blog/data_visualization_and_chart_types/) has a list of chart types with some ideas of when to use them. It includes a reference to [choosing a good chart](http://extremepresentation.typepad.com/files/choosing-a-good-chart-09.pdf) by Dr. Andrew Abela, a useful cheat sheet.\n"
   ]
  }
 ],
 "metadata": {
  "anaconda-cloud": {},
  "celltoolbar": "Slideshow",
  "kernelspec": {
   "display_name": "Python 3",
   "language": "python",
   "name": "python3"
  },
  "language_info": {
   "codemirror_mode": {
    "name": "ipython",
    "version": 3
   },
   "file_extension": ".py",
   "mimetype": "text/x-python",
   "name": "python",
   "nbconvert_exporter": "python",
   "pygments_lexer": "ipython3",
   "version": "3.6.5"
  }
 },
 "nbformat": 4,
 "nbformat_minor": 2
}
