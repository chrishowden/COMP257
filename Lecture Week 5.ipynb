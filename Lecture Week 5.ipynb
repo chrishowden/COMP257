{
 "cells": [
  {
   "cell_type": "markdown",
   "metadata": {
    "slideshow": {
     "slide_type": "slide"
    }
   },
   "source": [
    "# Linear and Logistic Regression\n",
    "\n",
    "This week we look at our first predictive models based on regression.  \n",
    "\n",
    "- Linear Regression\n",
    "- Experimental Procedure\n",
    "- Evaluation of Results\n",
    "- Probability basics\n",
    "- Logistic Regression"
   ]
  },
  {
   "cell_type": "markdown",
   "metadata": {
    "slideshow": {
     "slide_type": "notes"
    }
   },
   "source": [
    "There are some useful notes here that I've taken some material from:\n",
    "- [linear regression](https://github.com/justmarkham/DAT8/blob/master/notebooks/10_linear_regression.ipynb)\n",
    "- [logistic regression](https://github.com/justmarkham/DAT8/blob/master/notebooks/12_logistic_regression.ipynb)"
   ]
  },
  {
   "cell_type": "code",
   "execution_count": 1,
   "metadata": {
    "slideshow": {
     "slide_type": "slide"
    }
   },
   "outputs": [],
   "source": [
    "import pandas as pd\n",
    "import numpy as np\n",
    "from sklearn.model_selection import train_test_split\n",
    "from sklearn import linear_model\n",
    "from sklearn.metrics import r2_score\n",
    "\n",
    "import seaborn as sns\n",
    "import matplotlib.pylab as plt\n",
    "%matplotlib inline"
   ]
  },
  {
   "cell_type": "markdown",
   "metadata": {
    "slideshow": {
     "slide_type": "slide"
    }
   },
   "source": [
    "## Predictive Modelling\n",
    "\n",
    "- Can we predict the values for a target variable in unseen data? \n",
    "- What temperature will it be tomorrow?\n",
    "- How tall will you be? \n",
    "- How much will you earn?\n",
    "- Machine learning is about predicting unknowns\n",
    "- Look at one of the simplest prediction methods: linear regression"
   ]
  },
  {
   "cell_type": "markdown",
   "metadata": {},
   "source": [
    "## Predicting Birthweight\n",
    "\n",
    "- Data on birthweight of babies via [Sheffield University](https://www.sheffield.ac.uk/mash/data)\n",
    "- Details of mother and father: eg. height, weight, smoking status\n",
    "- Details of baby: birthweight, length, head circumfrence\n",
    "- Can we predict baby measures from parents"
   ]
  },
  {
   "cell_type": "code",
   "execution_count": 28,
   "metadata": {
    "slideshow": {
     "slide_type": "slide"
    }
   },
   "outputs": [
    {
     "name": "stdout",
     "output_type": "stream",
     "text": [
      "(42, 17)\n"
     ]
    },
    {
     "data": {
      "text/html": [
       "<div>\n",
       "<style scoped>\n",
       "    .dataframe tbody tr th:only-of-type {\n",
       "        vertical-align: middle;\n",
       "    }\n",
       "\n",
       "    .dataframe tbody tr th {\n",
       "        vertical-align: top;\n",
       "    }\n",
       "\n",
       "    .dataframe thead th {\n",
       "        text-align: right;\n",
       "    }\n",
       "</style>\n",
       "<table border=\"1\" class=\"dataframe\">\n",
       "  <thead>\n",
       "    <tr style=\"text-align: right;\">\n",
       "      <th></th>\n",
       "      <th>id</th>\n",
       "      <th>headcirumference</th>\n",
       "      <th>length</th>\n",
       "      <th>Birthweight</th>\n",
       "      <th>Gestation</th>\n",
       "      <th>smoker</th>\n",
       "      <th>motherage</th>\n",
       "      <th>mnocig</th>\n",
       "      <th>mheight</th>\n",
       "      <th>mppwt</th>\n",
       "      <th>fage</th>\n",
       "      <th>fedyrs</th>\n",
       "      <th>fnocig</th>\n",
       "      <th>fheight</th>\n",
       "      <th>lowbwt</th>\n",
       "      <th>mage35</th>\n",
       "      <th>LowBirthWeight</th>\n",
       "    </tr>\n",
       "  </thead>\n",
       "  <tbody>\n",
       "    <tr>\n",
       "      <th>0</th>\n",
       "      <td>1313</td>\n",
       "      <td>12</td>\n",
       "      <td>17</td>\n",
       "      <td>5.8</td>\n",
       "      <td>33</td>\n",
       "      <td>0</td>\n",
       "      <td>24</td>\n",
       "      <td>0</td>\n",
       "      <td>58</td>\n",
       "      <td>99</td>\n",
       "      <td>26</td>\n",
       "      <td>16</td>\n",
       "      <td>0</td>\n",
       "      <td>66</td>\n",
       "      <td>1</td>\n",
       "      <td>0</td>\n",
       "      <td>Low</td>\n",
       "    </tr>\n",
       "    <tr>\n",
       "      <th>1</th>\n",
       "      <td>431</td>\n",
       "      <td>12</td>\n",
       "      <td>19</td>\n",
       "      <td>4.2</td>\n",
       "      <td>33</td>\n",
       "      <td>1</td>\n",
       "      <td>20</td>\n",
       "      <td>7</td>\n",
       "      <td>63</td>\n",
       "      <td>109</td>\n",
       "      <td>20</td>\n",
       "      <td>10</td>\n",
       "      <td>35</td>\n",
       "      <td>71</td>\n",
       "      <td>1</td>\n",
       "      <td>0</td>\n",
       "      <td>Low</td>\n",
       "    </tr>\n",
       "    <tr>\n",
       "      <th>2</th>\n",
       "      <td>808</td>\n",
       "      <td>13</td>\n",
       "      <td>19</td>\n",
       "      <td>6.4</td>\n",
       "      <td>34</td>\n",
       "      <td>0</td>\n",
       "      <td>26</td>\n",
       "      <td>0</td>\n",
       "      <td>65</td>\n",
       "      <td>140</td>\n",
       "      <td>25</td>\n",
       "      <td>12</td>\n",
       "      <td>25</td>\n",
       "      <td>69</td>\n",
       "      <td>0</td>\n",
       "      <td>0</td>\n",
       "      <td>Normal</td>\n",
       "    </tr>\n",
       "    <tr>\n",
       "      <th>3</th>\n",
       "      <td>300</td>\n",
       "      <td>12</td>\n",
       "      <td>18</td>\n",
       "      <td>4.5</td>\n",
       "      <td>35</td>\n",
       "      <td>1</td>\n",
       "      <td>41</td>\n",
       "      <td>7</td>\n",
       "      <td>65</td>\n",
       "      <td>125</td>\n",
       "      <td>37</td>\n",
       "      <td>14</td>\n",
       "      <td>25</td>\n",
       "      <td>68</td>\n",
       "      <td>1</td>\n",
       "      <td>1</td>\n",
       "      <td>Low</td>\n",
       "    </tr>\n",
       "    <tr>\n",
       "      <th>4</th>\n",
       "      <td>516</td>\n",
       "      <td>13</td>\n",
       "      <td>18</td>\n",
       "      <td>5.8</td>\n",
       "      <td>35</td>\n",
       "      <td>1</td>\n",
       "      <td>20</td>\n",
       "      <td>35</td>\n",
       "      <td>67</td>\n",
       "      <td>125</td>\n",
       "      <td>23</td>\n",
       "      <td>12</td>\n",
       "      <td>50</td>\n",
       "      <td>73</td>\n",
       "      <td>1</td>\n",
       "      <td>0</td>\n",
       "      <td>Low</td>\n",
       "    </tr>\n",
       "  </tbody>\n",
       "</table>\n",
       "</div>"
      ],
      "text/plain": [
       "     id  headcirumference  length  Birthweight  Gestation  smoker  motherage  \\\n",
       "0  1313                12      17          5.8         33       0         24   \n",
       "1   431                12      19          4.2         33       1         20   \n",
       "2   808                13      19          6.4         34       0         26   \n",
       "3   300                12      18          4.5         35       1         41   \n",
       "4   516                13      18          5.8         35       1         20   \n",
       "\n",
       "   mnocig  mheight  mppwt  fage  fedyrs  fnocig  fheight  lowbwt  mage35  \\\n",
       "0       0       58     99    26      16       0       66       1       0   \n",
       "1       7       63    109    20      10      35       71       1       0   \n",
       "2       0       65    140    25      12      25       69       0       0   \n",
       "3       7       65    125    37      14      25       68       1       1   \n",
       "4      35       67    125    23      12      50       73       1       0   \n",
       "\n",
       "  LowBirthWeight  \n",
       "0            Low  \n",
       "1            Low  \n",
       "2         Normal  \n",
       "3            Low  \n",
       "4            Low  "
      ]
     },
     "execution_count": 28,
     "metadata": {},
     "output_type": "execute_result"
    }
   ],
   "source": [
    "birth = pd.read_csv(\"files/birthweight_reduced.csv\")\n",
    "print(birth.shape)\n",
    "birth.head()"
   ]
  },
  {
   "cell_type": "code",
   "execution_count": 27,
   "metadata": {
    "slideshow": {
     "slide_type": "slide"
    }
   },
   "outputs": [
    {
     "data": {
      "image/png": "[encoded data removed]",
      "text/plain": [
       "<Figure size 944.875x900 with 30 Axes>"
      ]
     },
     "metadata": {},
     "output_type": "display_data"
    }
   ],
   "source": [
    "p = sns.pairplot(birth[['length', 'Birthweight', 'smoker', 'motherage', 'mheight']], hue='smoker')"
   ]
  },
  {
   "cell_type": "markdown",
   "metadata": {
    "slideshow": {
     "slide_type": "slide"
    }
   },
   "source": [
    "\n",
    "Can we predict baby length from the height of the mother"
   ]
  },
  {
   "cell_type": "code",
   "execution_count": 74,
   "metadata": {
    "slideshow": {
     "slide_type": "fragment"
    }
   },
   "outputs": [
    {
     "data": {
      "image/png": "[encoded data removed]",
      "text/plain": [
       "<Figure size 360x360 with 1 Axes>"
      ]
     },
     "metadata": {},
     "output_type": "display_data"
    }
   ],
   "source": [
    "p = sns.lmplot('mheight', 'length', birth, size=5, fit_reg=False)"
   ]
  },
  {
   "cell_type": "markdown",
   "metadata": {
    "slideshow": {
     "slide_type": "slide"
    }
   },
   "source": [
    "Look at the correlation between these variables."
   ]
  },
  {
   "cell_type": "code",
   "execution_count": 41,
   "metadata": {
    "slideshow": {
     "slide_type": "fragment"
    }
   },
   "outputs": [
    {
     "data": {
      "text/html": [
       "<div>\n",
       "<style scoped>\n",
       "    .dataframe tbody tr th:only-of-type {\n",
       "        vertical-align: middle;\n",
       "    }\n",
       "\n",
       "    .dataframe tbody tr th {\n",
       "        vertical-align: top;\n",
       "    }\n",
       "\n",
       "    .dataframe thead th {\n",
       "        text-align: right;\n",
       "    }\n",
       "</style>\n",
       "<table border=\"1\" class=\"dataframe\">\n",
       "  <thead>\n",
       "    <tr style=\"text-align: right;\">\n",
       "      <th></th>\n",
       "      <th>mheight</th>\n",
       "      <th>length</th>\n",
       "    </tr>\n",
       "  </thead>\n",
       "  <tbody>\n",
       "    <tr>\n",
       "      <th>mheight</th>\n",
       "      <td>1.000000</td>\n",
       "      <td>0.414731</td>\n",
       "    </tr>\n",
       "    <tr>\n",
       "      <th>length</th>\n",
       "      <td>0.414731</td>\n",
       "      <td>1.000000</td>\n",
       "    </tr>\n",
       "  </tbody>\n",
       "</table>\n",
       "</div>"
      ],
      "text/plain": [
       "          mheight    length\n",
       "mheight  1.000000  0.414731\n",
       "length   0.414731  1.000000"
      ]
     },
     "execution_count": 41,
     "metadata": {},
     "output_type": "execute_result"
    }
   ],
   "source": [
    "birth[['mheight', 'length']].corr()"
   ]
  },
  {
   "cell_type": "markdown",
   "metadata": {
    "slideshow": {
     "slide_type": "slide"
    }
   },
   "source": [
    "## Linear Regression\n",
    "\n",
    "- Model the relationship between these variables as a straight line\n",
    "- Defined by the equation:  \n",
    "> $y = O_1x + O_2$\n",
    "- $O_1$ is the __gradient__ or slope of the line\n",
    "- $O_2$ is the __intercept__ or where it crosses the y axis\n",
    "- Choose values of $O_1$ and $O_2$ (the model coefficients) to minimise errors"
   ]
  },
  {
   "cell_type": "markdown",
   "metadata": {},
   "source": [
    "## Least Squares\n",
    "\n",
    "- Model predicts \n",
    "> $\\hat{y} = O_1x + O_2$ \n",
    "- Real value of $y$ will usually be different\n",
    "- Difference $\\hat{y} - y$ is the _residual_ \n",
    "- Find the value that gives the minimum _sum of squared errors_ or residuals"
   ]
  },
  {
   "cell_type": "markdown",
   "metadata": {
    "slideshow": {
     "slide_type": "slide"
    }
   },
   "source": [
    "<img src=\"http://nbviewer.jupyter.org/github/justmarkham/DAT8/blob/master/notebooks/images/estimating_coefficients.png\" width=\"90%\">\n",
    "\n",
    "[Source](http://nbviewer.jupyter.org/github/justmarkham/DAT8/blob/master/notebooks/10_linear_regression.ipynb)"
   ]
  },
  {
   "cell_type": "code",
   "execution_count": 61,
   "metadata": {
    "slideshow": {
     "slide_type": "slide"
    }
   },
   "outputs": [
    {
     "data": {
      "text/plain": [
       "LinearRegression(copy_X=True, fit_intercept=True, n_jobs=1, normalize=False)"
      ]
     },
     "execution_count": 61,
     "metadata": {},
     "output_type": "execute_result"
    }
   ],
   "source": [
    "# create X and y\n",
    "feature_cols = ['mheight']\n",
    "X = birth[feature_cols]\n",
    "y = birth['length']\n",
    "\n",
    "# import, instantiate, fit\n",
    "from sklearn.linear_model import LinearRegression\n",
    "model = LinearRegression()\n",
    "model.fit(X, y)"
   ]
  },
  {
   "cell_type": "code",
   "execution_count": 62,
   "metadata": {
    "slideshow": {
     "slide_type": "fragment"
    }
   },
   "outputs": [
    {
     "name": "stdout",
     "output_type": "stream",
     "text": [
      "y =  [0.18117563] * x +  8.259998210611078\n"
     ]
    }
   ],
   "source": [
    "print(\"y = \", model.coef_, \"* x + \", model.intercept_)"
   ]
  },
  {
   "cell_type": "markdown",
   "metadata": {
    "slideshow": {
     "slide_type": "slide"
    }
   },
   "source": [
    "## Model Interpretation\n",
    "\n",
    "- Model predicts changes in birth length for different heights of the mother\n",
    "- Intercept is 8.25 inches - what does this mean? \n",
    "- Coefficient of $x$ is 0.18\n",
    "  - an increase of one inch in mother's height predicts an increase of 0.18 inches in baby length\n",
    "  - a mother who is five inches taller will have a baby one inch longer"
   ]
  },
  {
   "cell_type": "markdown",
   "metadata": {
    "slideshow": {
     "slide_type": "slide"
    }
   },
   "source": [
    "## Prediction\n",
    "\n",
    "We can use this formula to make predictions for the value of $y$ (`length`) given a value for $x$ (`mheight`).\n",
    "\n",
    "Let's create a plot of the line overlaid with the original data.  \n",
    "\n",
    "Get the max and min of the data, compute the predicted value of $y$ for each."
   ]
  },
  {
   "cell_type": "code",
   "execution_count": null,
   "metadata": {
    "slideshow": {
     "slide_type": "fragment"
    }
   },
   "outputs": [],
   "source": [
    "xmin = X.min()\n",
    "ymin = model.coef_[0] * xmin + model.intercept_\n",
    "xmax = X.max()\n",
    "ymax = model.coef_[0] * xmax + model.intercept_"
   ]
  },
  {
   "cell_type": "code",
   "execution_count": 73,
   "metadata": {
    "slideshow": {
     "slide_type": "slide"
    }
   },
   "outputs": [
    {
     "data": {
      "text/plain": [
       "<matplotlib.collections.PathCollection at 0x1a225529b0>"
      ]
     },
     "execution_count": 73,
     "metadata": {},
     "output_type": "execute_result"
    },
    {
     "data": {
      "image/png": "[encoded data removed]",
      "text/plain": [
       "<Figure size 504x504 with 1 Axes>"
      ]
     },
     "metadata": {},
     "output_type": "display_data"
    }
   ],
   "source": [
    "plt.figure(figsize=(7,7))\n",
    "plt.plot([xmin, xmax], [ymin, ymax])  # single line\n",
    "plt.scatter(X, y)  # original data "
   ]
  },
  {
   "cell_type": "code",
   "execution_count": 75,
   "metadata": {
    "slideshow": {
     "slide_type": "slide"
    }
   },
   "outputs": [
    {
     "data": {
      "image/png": "[encoded data removed]",
      "text/plain": [
       "<Figure size 360x360 with 1 Axes>"
      ]
     },
     "metadata": {},
     "output_type": "display_data"
    }
   ],
   "source": [
    "# Same thing with lmplot (linear model plot)\n",
    "p = sns.lmplot('mheight', 'length', birth, size=5, fit_reg=True, ci=False)"
   ]
  },
  {
   "cell_type": "markdown",
   "metadata": {
    "slideshow": {
     "slide_type": "slide"
    }
   },
   "source": [
    "We can use the predict method on the model to apply the formula:"
   ]
  },
  {
   "cell_type": "code",
   "execution_count": 83,
   "metadata": {
    "slideshow": {
     "slide_type": "fragment"
    }
   },
   "outputs": [
    {
     "name": "stdout",
     "output_type": "stream",
     "text": [
      "Predicted value for x = 58 is [18.76818466]\n"
     ]
    },
    {
     "data": {
      "text/plain": [
       "array([18.76818466, 19.67406281, 20.03641406, 20.03641406, 20.39876532,\n",
       "       19.49288718, 19.85523844, 20.03641406, 19.49288718, 20.39876532,\n",
       "       19.85523844, 19.85523844, 19.85523844, 19.67406281, 19.67406281,\n",
       "       19.85523844, 19.49288718, 20.39876532, 19.49288718, 21.12346784,\n",
       "       19.31171155, 19.49288718, 20.39876532, 20.03641406, 20.21758969,\n",
       "       20.39876532, 19.85523844, 19.13053592, 20.21758969, 20.21758969,\n",
       "       20.39876532, 19.31171155, 19.85523844, 19.67406281, 19.85523844,\n",
       "       19.67406281, 20.57994095, 20.76111658, 20.03641406, 19.67406281,\n",
       "       19.85523844, 20.57994095])"
      ]
     },
     "execution_count": 83,
     "metadata": {},
     "output_type": "execute_result"
    }
   ],
   "source": [
    "print(\"Predicted value for x =\", xmin[0], \"is\", model.predict([xmin]))\n",
    "yhat = model.predict(X)\n",
    "yhat"
   ]
  },
  {
   "cell_type": "markdown",
   "metadata": {
    "slideshow": {
     "slide_type": "slide"
    }
   },
   "source": [
    "## How good is our model? \n",
    "\n",
    "- We can calculate the mean squared error for the original data\n",
    "- How far on average is the original value of `length` from the predicted value?\n",
    "$$mse = {1\\over n} \\sum (\\hat{y} - y)^2$$\n",
    "- Or take the square root to give us the same units as $y$ (inches)\n",
    "- Gives us a measure of the goodness of fit of the model"
   ]
  },
  {
   "cell_type": "code",
   "execution_count": 92,
   "metadata": {
    "slideshow": {
     "slide_type": "fragment"
    }
   },
   "outputs": [
    {
     "name": "stdout",
     "output_type": "stream",
     "text": [
      "1.0012014468487584 1.0006005430983727\n"
     ]
    }
   ],
   "source": [
    "mse = ((y - model.predict(X))**2).mean()\n",
    "print(mse, np.sqrt(mse))"
   ]
  },
  {
   "cell_type": "markdown",
   "metadata": {
    "slideshow": {
     "slide_type": "slide"
    }
   },
   "source": [
    "## R-squared Metric\n",
    "\n",
    "- Another metric is $R^2$\n",
    "- A measure of the variance of the data explained by the model\n",
    "\n",
    "$$R^2 = {Variance\\ explained\\ by\\ the\\ model \\over Total\\ variance}$$\n",
    "\n",
    "<table>\n",
    " <tr>\n",
    "  <td>\n",
    "    <img src=\"https://i1.wp.com/statisticsbyjim.com/wp-content/uploads/2017/04/flp_highvar.png?w=375\">\n",
    "    $R^2 = 0.15$\n",
    "  </td>\n",
    "  <td>\n",
    "    <img src=\"https://i2.wp.com/statisticsbyjim.com/wp-content/uploads/2017/04/flp_lowvar.png?w=376\">\n",
    "    $R^2 = 0.85$\n",
    "  </td>\n",
    " </tr>\n",
    "</table>\n",
    "\n",
    "[source](http://statisticsbyjim.com/regression/interpret-r-squared-regression/)"
   ]
  },
  {
   "cell_type": "markdown",
   "metadata": {
    "slideshow": {
     "slide_type": "slide"
    }
   },
   "source": [
    "`sklearn` provides convenient functions to calculate these metrics"
   ]
  },
  {
   "cell_type": "code",
   "execution_count": 96,
   "metadata": {
    "slideshow": {
     "slide_type": "-"
    }
   },
   "outputs": [
    {
     "name": "stdout",
     "output_type": "stream",
     "text": [
      "MSE: 1.0012014468487584\n",
      "R^2: 0.172002178977398\n"
     ]
    }
   ],
   "source": [
    "from sklearn.metrics import mean_squared_error, r2_score\n",
    "\n",
    "predicted = model.predict(X)\n",
    "print(\"MSE:\", mean_squared_error(y, predicted))\n",
    "print(\"R^2:\", r2_score(y, predicted))"
   ]
  },
  {
   "cell_type": "markdown",
   "metadata": {
    "slideshow": {
     "slide_type": "slide"
    }
   },
   "source": [
    "## Making our model better\n",
    "\n",
    "- So far we've used one feature (mother height) \n",
    "- May be better to use more features\n",
    "- We can still use a linear model - just need more coefficients as multipliers for features\n",
    "\n",
    "$$y = o_{1_1}x_1 + o_{1_2}x_2 + O_2$$\n",
    "\n",
    "- or, writing X as a vector quantity:\n",
    "\n",
    "$$y = O_1X + O_2$$"
   ]
  },
  {
   "cell_type": "code",
   "execution_count": 121,
   "metadata": {
    "slideshow": {
     "slide_type": "slide"
    }
   },
   "outputs": [
    {
     "data": {
      "text/plain": [
       "LinearRegression(copy_X=True, fit_intercept=True, n_jobs=1, normalize=False)"
      ]
     },
     "execution_count": 121,
     "metadata": {},
     "output_type": "execute_result"
    }
   ],
   "source": [
    "# create X and y\n",
    "feature_cols = ['mheight', 'motherage']\n",
    "X = birth[feature_cols]\n",
    "y = birth['length']\n",
    "\n",
    "model = LinearRegression()\n",
    "model.fit(X, y)"
   ]
  },
  {
   "cell_type": "code",
   "execution_count": 119,
   "metadata": {},
   "outputs": [
    {
     "name": "stdout",
     "output_type": "stream",
     "text": [
      "y =  [ 0.18199742 -0.00789783] * X +  8.40884156201392\n"
     ]
    }
   ],
   "source": [
    "print(\"y = \", model.coef_, \"* X + \", model.intercept_)"
   ]
  },
  {
   "cell_type": "code",
   "execution_count": 120,
   "metadata": {
    "scrolled": true,
    "slideshow": {
     "slide_type": "slide"
    }
   },
   "outputs": [
    {
     "name": "stdout",
     "output_type": "stream",
     "text": [
      "MSE: 0.9992506867164423\n",
      "R^2: 0.1736154658378789\n"
     ]
    }
   ],
   "source": [
    "predicted = model.predict(X)\n",
    "print(\"MSE:\", mean_squared_error(y, predicted))\n",
    "print(\"R^2:\", r2_score(y, predicted))"
   ]
  },
  {
   "cell_type": "markdown",
   "metadata": {
    "slideshow": {
     "slide_type": "slide"
    }
   },
   "source": [
    "## Model Interpretation\n",
    "\n",
    "- Coefficient of mother's age is -0.0079 \n",
    "- Very small multiplier on age \n",
    "- Even a large change in age has little effect on baby length\n",
    "- Linear model assumes that these factors are independant effects\n",
    "- Relatively easy to interpret the model in terms of the input variables"
   ]
  },
  {
   "cell_type": "markdown",
   "metadata": {
    "slideshow": {
     "slide_type": "slide"
    }
   },
   "source": [
    "## Model Evaluation and Tuning \n",
    "\n",
    "- We can build a model and evaluate MSE or R^2 \n",
    "- Add features and compare the scores\n",
    "- But how well would ie perform on new data? \n",
    "- Is the data we have trained on typical of all possible data? \n",
    "- Leads to a process of separating training and testing data "
   ]
  },
  {
   "cell_type": "markdown",
   "metadata": {
    "slideshow": {
     "slide_type": "slide"
    }
   },
   "source": [
    "## Train Test Split\n",
    "\n",
    "- Use separate data partitions for training and testing the model\n",
    "- Test data is an unseen sample from the population\n",
    "- Gives a better idea of performance of the model on new data"
   ]
  },
  {
   "cell_type": "code",
   "execution_count": 124,
   "metadata": {
    "slideshow": {
     "slide_type": "fragment"
    }
   },
   "outputs": [],
   "source": [
    "feature_cols = ['mheight', 'motherage']\n",
    "X = birth[feature_cols]\n",
    "y = birth['length']\n",
    "\n",
    "X_train = X[:30]\n",
    "y_train = y[:30]\n",
    "X_test = X[30:]\n",
    "y_test = y[30:]"
   ]
  },
  {
   "cell_type": "markdown",
   "metadata": {
    "slideshow": {
     "slide_type": "slide"
    }
   },
   "source": [
    "Now we train the model on the training partition and test on the test partition:"
   ]
  },
  {
   "cell_type": "code",
   "execution_count": 125,
   "metadata": {
    "slideshow": {
     "slide_type": "-"
    }
   },
   "outputs": [
    {
     "name": "stdout",
     "output_type": "stream",
     "text": [
      "MSE: 2.1649658058903594\n",
      "R^2: -1.6875437590363078\n"
     ]
    }
   ],
   "source": [
    "model = LinearRegression()\n",
    "model.fit(X_train, y_train)\n",
    "predicted = model.predict(X_test)\n",
    "print(\"MSE:\", mean_squared_error(y_test, predicted))\n",
    "print(\"R^2:\", r2_score(y_test, predicted))"
   ]
  },
  {
   "cell_type": "markdown",
   "metadata": {
    "slideshow": {
     "slide_type": "slide"
    }
   },
   "source": [
    "- Taking the first/last parts of the data might give biased samples\n",
    "- Eg. if the data is ordered in some way\n",
    "- Better to select random samples from the data\n",
    "- `sklearn` provides a function `train_test_split` to do this"
   ]
  },
  {
   "cell_type": "code",
   "execution_count": 129,
   "metadata": {},
   "outputs": [
    {
     "name": "stdout",
     "output_type": "stream",
     "text": [
      "(33, 2) (9, 2)\n"
     ]
    }
   ],
   "source": [
    "from sklearn.model_selection import train_test_split\n",
    "\n",
    "X_train, X_test, y_train, y_test = train_test_split(X, y, test_size=0.2)\n",
    "print(X_train.shape, X_test.shape)"
   ]
  },
  {
   "cell_type": "code",
   "execution_count": 130,
   "metadata": {
    "slideshow": {
     "slide_type": "slide"
    }
   },
   "outputs": [
    {
     "name": "stdout",
     "output_type": "stream",
     "text": [
      "MSE: 0.3095534925209188\n",
      "R^2: 0.4301401614955812\n"
     ]
    }
   ],
   "source": [
    "model = LinearRegression()\n",
    "model.fit(X_train, y_train)\n",
    "predicted = model.predict(X_test)\n",
    "print(\"MSE:\", mean_squared_error(y_test, predicted))\n",
    "print(\"R^2:\", r2_score(y_test, predicted))"
   ]
  },
  {
   "cell_type": "markdown",
   "metadata": {
    "slideshow": {
     "slide_type": "slide"
    }
   },
   "source": [
    "## Categorical Variables\n",
    "\n",
    "- So far we've looked at _continous variables_ \n",
    "- Those with a real numerical value\n",
    "- What about variables with _categorical values_? \n",
    "- Eg. in this data \n",
    "    - whether the mother or father are smokers\n",
    "    - whether the baby has low birth weight\n",
    "- Eg. nationality of a person, brand of product used\n"
   ]
  },
  {
   "cell_type": "markdown",
   "metadata": {
    "slideshow": {
     "slide_type": "slide"
    }
   },
   "source": [
    "## Categorical Variables\n",
    "\n",
    "- Convert categories to numerical values\n",
    "- Binary variables can be coded as 0 or 1\n",
    "- More values can use arbitrary integers if ordering is natural\n",
    "    - Low/Mid/High becomes 0/1/2\n",
    "- Unordered categories: convert to _dummy_ variables\n",
    "    - Spring/Summer/Autumn/Winter\n",
    "    - is_spring/is_summer/is_autumn/is_winter, each 0 or 1\n"
   ]
  },
  {
   "cell_type": "code",
   "execution_count": 139,
   "metadata": {
    "slideshow": {
     "slide_type": "slide"
    }
   },
   "outputs": [
    {
     "data": {
      "text/html": [
       "<div>\n",
       "<style scoped>\n",
       "    .dataframe tbody tr th:only-of-type {\n",
       "        vertical-align: middle;\n",
       "    }\n",
       "\n",
       "    .dataframe tbody tr th {\n",
       "        vertical-align: top;\n",
       "    }\n",
       "\n",
       "    .dataframe thead th {\n",
       "        text-align: right;\n",
       "    }\n",
       "</style>\n",
       "<table border=\"1\" class=\"dataframe\">\n",
       "  <thead>\n",
       "    <tr style=\"text-align: right;\">\n",
       "      <th></th>\n",
       "      <th>mheight</th>\n",
       "      <th>smoker</th>\n",
       "      <th>length</th>\n",
       "      <th>Birthweight</th>\n",
       "      <th>LowBirthWeight</th>\n",
       "      <th>lowbwt</th>\n",
       "    </tr>\n",
       "  </thead>\n",
       "  <tbody>\n",
       "    <tr>\n",
       "      <th>0</th>\n",
       "      <td>58</td>\n",
       "      <td>0</td>\n",
       "      <td>17</td>\n",
       "      <td>5.8</td>\n",
       "      <td>Low</td>\n",
       "      <td>1</td>\n",
       "    </tr>\n",
       "    <tr>\n",
       "      <th>1</th>\n",
       "      <td>63</td>\n",
       "      <td>1</td>\n",
       "      <td>19</td>\n",
       "      <td>4.2</td>\n",
       "      <td>Low</td>\n",
       "      <td>1</td>\n",
       "    </tr>\n",
       "    <tr>\n",
       "      <th>2</th>\n",
       "      <td>65</td>\n",
       "      <td>0</td>\n",
       "      <td>19</td>\n",
       "      <td>6.4</td>\n",
       "      <td>Normal</td>\n",
       "      <td>0</td>\n",
       "    </tr>\n",
       "    <tr>\n",
       "      <th>3</th>\n",
       "      <td>65</td>\n",
       "      <td>1</td>\n",
       "      <td>18</td>\n",
       "      <td>4.5</td>\n",
       "      <td>Low</td>\n",
       "      <td>1</td>\n",
       "    </tr>\n",
       "    <tr>\n",
       "      <th>4</th>\n",
       "      <td>67</td>\n",
       "      <td>1</td>\n",
       "      <td>18</td>\n",
       "      <td>5.8</td>\n",
       "      <td>Low</td>\n",
       "      <td>1</td>\n",
       "    </tr>\n",
       "  </tbody>\n",
       "</table>\n",
       "</div>"
      ],
      "text/plain": [
       "   mheight  smoker  length  Birthweight LowBirthWeight  lowbwt\n",
       "0       58       0      17          5.8            Low       1\n",
       "1       63       1      19          4.2            Low       1\n",
       "2       65       0      19          6.4         Normal       0\n",
       "3       65       1      18          4.5            Low       1\n",
       "4       67       1      18          5.8            Low       1"
      ]
     },
     "execution_count": 139,
     "metadata": {},
     "output_type": "execute_result"
    }
   ],
   "source": [
    "birth[['mheight', 'smoker', 'length', 'Birthweight', 'LowBirthWeight', 'lowbwt']].head()"
   ]
  },
  {
   "cell_type": "code",
   "execution_count": 151,
   "metadata": {
    "slideshow": {
     "slide_type": "slide"
    }
   },
   "outputs": [
    {
     "name": "stdout",
     "output_type": "stream",
     "text": [
      "y =  [ 0.1849176 -0.4999704] * X +  -4.482770101548195\n",
      "MSE: 2.0369326080716523\n",
      "R^2: 0.14396834464146613\n"
     ]
    }
   ],
   "source": [
    "feature_cols = ['mheight', 'smoker']\n",
    "X = birth[feature_cols]\n",
    "y = birth['Birthweight']\n",
    "X_train, X_test, y_train, y_test = train_test_split(X, y, test_size=0.2)\n",
    "model = LinearRegression()\n",
    "model.fit(X_train, y_train)\n",
    "predicted = model.predict(X_test)\n",
    "print(\"y = \", model.coef_, \"* X + \", model.intercept_)\n",
    "print(\"MSE:\", mean_squared_error(y_test, predicted))\n",
    "print(\"R^2:\", r2_score(y_test, predicted))"
   ]
  },
  {
   "cell_type": "code",
   "execution_count": null,
   "metadata": {},
   "outputs": [],
   "source": []
  },
  {
   "cell_type": "markdown",
   "metadata": {
    "slideshow": {
     "slide_type": "slide"
    }
   },
   "source": [
    "## Logistic Regression\n",
    "\n",
    "- How do we predict categorical variables? \n",
    "- Look at a different dataset (iris)\n",
    "- Can we predict species from some of the features? \n",
    "- Encode species as a dummy variable `is_setosa`"
   ]
  },
  {
   "cell_type": "code",
   "execution_count": 166,
   "metadata": {
    "slideshow": {
     "slide_type": "slide"
    }
   },
   "outputs": [
    {
     "data": {
      "text/plain": [
       "<seaborn.axisgrid.PairGrid at 0x1a22c60780>"
      ]
     },
     "execution_count": 166,
     "metadata": {},
     "output_type": "execute_result"
    },
    {
     "data": {
      "image/png": "[encoded data removed]",
      "text/plain": [
       "<Figure size 804.75x720 with 20 Axes>"
      ]
     },
     "metadata": {},
     "output_type": "display_data"
    }
   ],
   "source": [
    "iris = sns.load_dataset('iris')\n",
    "sns.pairplot(iris, hue='species')"
   ]
  },
  {
   "cell_type": "code",
   "execution_count": 212,
   "metadata": {
    "slideshow": {
     "slide_type": "slide"
    }
   },
   "outputs": [
    {
     "data": {
      "text/plain": [
       "<seaborn.axisgrid.FacetGrid at 0x1a291117f0>"
      ]
     },
     "execution_count": 212,
     "metadata": {},
     "output_type": "execute_result"
    },
    {
     "data": {
      "image/png": "[encoded data removed]",
      "text/plain": [
       "<Figure size 360x360 with 1 Axes>"
      ]
     },
     "metadata": {},
     "output_type": "display_data"
    }
   ],
   "source": [
    "iris['is_setosa'] = (iris['species'] == 'setosa').astype('int64')\n",
    "iris['is_versicolor'] = (iris['species'] == 'versicolor').astype('int64')\n",
    "iris['is_virginica'] = (iris['species'] == 'virginica').astype('int64')\n",
    "iris.sort_values('sepal_length')\n",
    "sns.lmplot('sepal_length', 'is_setosa', iris, fit_reg=False)"
   ]
  },
  {
   "cell_type": "code",
   "execution_count": 213,
   "metadata": {
    "slideshow": {
     "slide_type": "slide"
    }
   },
   "outputs": [
    {
     "name": "stdout",
     "output_type": "stream",
     "text": [
      "y =  [-0.40978124] * X +  2.7278217321087754\n"
     ]
    }
   ],
   "source": [
    "# Fit a linear model\n",
    "feature_cols = ['sepal_length']\n",
    "X = iris[feature_cols]\n",
    "y = iris['is_setosa']\n",
    "model = LinearRegression()\n",
    "model.fit(X, y)\n",
    "print(\"y = \", model.coef_, \"* X + \", model.intercept_)\n"
   ]
  },
  {
   "cell_type": "markdown",
   "metadata": {
    "slideshow": {
     "slide_type": "slide"
    }
   },
   "source": [
    "## Model Predictions\n",
    "\n",
    "- Model will predict a continuous value for `is_setosa`\n",
    "- We can only interpret this as a category - 1 if it is Setosa"
   ]
  },
  {
   "cell_type": "code",
   "execution_count": 232,
   "metadata": {
    "slideshow": {
     "slide_type": "slide"
    }
   },
   "outputs": [
    {
     "data": {
      "text/plain": [
       "Text(0,0.5,'predicted is_setosa')"
      ]
     },
     "execution_count": 232,
     "metadata": {},
     "output_type": "execute_result"
    },
    {
     "data": {
      "image/png": "[encoded data removed]",
      "text/plain": [
       "<Figure size 432x288 with 1 Axes>"
      ]
     },
     "metadata": {},
     "output_type": "display_data"
    }
   ],
   "source": [
    "predicted = model.predict(X)\n",
    "plt.scatter(X, predicted)\n",
    "plt.xlabel('sepal_length')\n",
    "plt.ylabel('predicted is_setosa')"
   ]
  },
  {
   "cell_type": "markdown",
   "metadata": {
    "slideshow": {
     "slide_type": "slide"
    }
   },
   "source": [
    "Apply a threshold:\n",
    "\n",
    "- greater than 0.5 is setosa\n",
    "- less than 0.5 isn't"
   ]
  },
  {
   "cell_type": "code",
   "execution_count": 256,
   "metadata": {
    "scrolled": true,
    "slideshow": {
     "slide_type": "slide"
    }
   },
   "outputs": [
    {
     "data": {
      "image/png": "[encoded data removed]",
      "text/plain": [
       "<Figure size 432x288 with 1 Axes>"
      ]
     },
     "metadata": {},
     "output_type": "display_data"
    }
   ],
   "source": [
    "# generate some fake data in the range of the real data to make a nice line on the plot\n",
    "xr = np.array([np.arange(4.5, 8.0, 0.05)]).transpose()\n",
    "predicted = model.predict(xr)\n",
    "predicted = np.where(predicted >= 0.5, 1, 0)\n",
    "\n",
    "plt.scatter(X, y); plt.plot(xr, predicted, color='red')\n",
    "plt.xlabel('sepal_length');plt.ylabel('predicted is_setosa')\n",
    "None"
   ]
  },
  {
   "cell_type": "markdown",
   "metadata": {
    "slideshow": {
     "slide_type": "slide"
    }
   },
   "source": [
    "What we've done here can be achieved with __Logistic Regression__."
   ]
  },
  {
   "cell_type": "code",
   "execution_count": 262,
   "metadata": {},
   "outputs": [
    {
     "data": {
      "text/plain": [
       "LogisticRegression(C=1000000000.0, class_weight=None, dual=False,\n",
       "          fit_intercept=True, intercept_scaling=1, max_iter=100,\n",
       "          multi_class='ovr', n_jobs=1, penalty='l2', random_state=None,\n",
       "          solver='liblinear', tol=0.0001, verbose=0, warm_start=False)"
      ]
     },
     "execution_count": 262,
     "metadata": {},
     "output_type": "execute_result"
    }
   ],
   "source": [
    "from sklearn.linear_model import LogisticRegression\n",
    "\n",
    "feature_cols = ['sepal_length']\n",
    "X = iris[feature_cols]\n",
    "y = iris['is_setosa']\n",
    "logreg = LogisticRegression(C=1e9)\n",
    "logreg.fit(X, y)"
   ]
  },
  {
   "cell_type": "code",
   "execution_count": 261,
   "metadata": {},
   "outputs": [
    {
     "data": {
      "text/plain": [
       "Text(0,0.5,'predicted is_setosa')"
      ]
     },
     "execution_count": 261,
     "metadata": {},
     "output_type": "execute_result"
    },
    {
     "data": {
      "image/png": "[encoded data removed]",
      "text/plain": [
       "<Figure size 432x288 with 1 Axes>"
      ]
     },
     "metadata": {},
     "output_type": "display_data"
    }
   ],
   "source": [
    "predicted = logreg.predict(X)\n",
    "plt.scatter(X, predicted)\n",
    "plt.xlabel('sepal_length');plt.ylabel('predicted is_setosa')"
   ]
  },
  {
   "cell_type": "markdown",
   "metadata": {
    "slideshow": {
     "slide_type": "slide"
    }
   },
   "source": [
    "## Predicting Probabilities\n",
    "\n",
    "- But here's the extra trick that Logistic Regression gives us. \n",
    "\n",
    "- We can predict the probability of each outcome based on the input variables.\n",
    "\n",
    "- Given the evidence (inputs) how likely is this category?"
   ]
  },
  {
   "cell_type": "code",
   "execution_count": 270,
   "metadata": {
    "slideshow": {
     "slide_type": "slide"
    }
   },
   "outputs": [
    {
     "data": {
      "image/png": "[encoded data removed]",
      "text/plain": [
       "<Figure size 432x288 with 1 Axes>"
      ]
     },
     "metadata": {},
     "output_type": "display_data"
    }
   ],
   "source": [
    "probs = logreg.predict_proba(X)[:, 1]\n",
    "plt.scatter(X, y); plt.scatter(X, probs)\n",
    "plt.xlabel('sepal_length');plt.ylabel('is_setosa')\n",
    "None"
   ]
  },
  {
   "cell_type": "markdown",
   "metadata": {
    "slideshow": {
     "slide_type": "slide"
    }
   },
   "source": [
    "## Probability and Odds\n",
    "\n",
    "$$probability = \\frac {one\\ outcome} {all\\ outcomes}$$\n",
    "\n",
    "$$odds = \\frac {one\\ outcome} {all\\ other\\ outcomes}$$\n",
    "\n",
    "Examples:\n",
    "\n",
    "- Dice roll of 1: probability = 1/6, odds = 1/5\n",
    "- Even dice roll: probability = 3/6, odds = 3/3 = 1\n",
    "- Dice roll less than 5: probability = 4/6, odds = 4/2 = 2\n",
    "\n",
    "[source](https://github.com/justmarkham/DAT8/blob/master/notebooks/10_linear_regression.ipynb) for this and some of the next slides."
   ]
  },
  {
   "cell_type": "markdown",
   "metadata": {
    "slideshow": {
     "slide_type": "slide"
    }
   },
   "source": [
    "## Probability and Odds\n",
    "$$odds = \\frac {probability} {1 - probability}$$\n",
    "\n",
    "$$probability = \\frac {odds} {1 + odds}$$\n",
    "\n",
    "[Here's another page](https://stats.seandolinar.com/statistics-probability-vs-odds/) that explains odds and probability."
   ]
  },
  {
   "cell_type": "code",
   "execution_count": 271,
   "metadata": {
    "slideshow": {
     "slide_type": "slide"
    }
   },
   "outputs": [
    {
     "data": {
      "text/html": [
       "<div>\n",
       "<style scoped>\n",
       "    .dataframe tbody tr th:only-of-type {\n",
       "        vertical-align: middle;\n",
       "    }\n",
       "\n",
       "    .dataframe tbody tr th {\n",
       "        vertical-align: top;\n",
       "    }\n",
       "\n",
       "    .dataframe thead th {\n",
       "        text-align: right;\n",
       "    }\n",
       "</style>\n",
       "<table border=\"1\" class=\"dataframe\">\n",
       "  <thead>\n",
       "    <tr style=\"text-align: right;\">\n",
       "      <th></th>\n",
       "      <th>probability</th>\n",
       "      <th>odds</th>\n",
       "    </tr>\n",
       "  </thead>\n",
       "  <tbody>\n",
       "    <tr>\n",
       "      <th>0</th>\n",
       "      <td>0.10</td>\n",
       "      <td>0.111111</td>\n",
       "    </tr>\n",
       "    <tr>\n",
       "      <th>1</th>\n",
       "      <td>0.20</td>\n",
       "      <td>0.250000</td>\n",
       "    </tr>\n",
       "    <tr>\n",
       "      <th>2</th>\n",
       "      <td>0.25</td>\n",
       "      <td>0.333333</td>\n",
       "    </tr>\n",
       "    <tr>\n",
       "      <th>3</th>\n",
       "      <td>0.50</td>\n",
       "      <td>1.000000</td>\n",
       "    </tr>\n",
       "    <tr>\n",
       "      <th>4</th>\n",
       "      <td>0.60</td>\n",
       "      <td>1.500000</td>\n",
       "    </tr>\n",
       "    <tr>\n",
       "      <th>5</th>\n",
       "      <td>0.80</td>\n",
       "      <td>4.000000</td>\n",
       "    </tr>\n",
       "    <tr>\n",
       "      <th>6</th>\n",
       "      <td>0.90</td>\n",
       "      <td>9.000000</td>\n",
       "    </tr>\n",
       "  </tbody>\n",
       "</table>\n",
       "</div>"
      ],
      "text/plain": [
       "   probability      odds\n",
       "0         0.10  0.111111\n",
       "1         0.20  0.250000\n",
       "2         0.25  0.333333\n",
       "3         0.50  1.000000\n",
       "4         0.60  1.500000\n",
       "5         0.80  4.000000\n",
       "6         0.90  9.000000"
      ]
     },
     "execution_count": 271,
     "metadata": {},
     "output_type": "execute_result"
    }
   ],
   "source": [
    "# create a table of probability versus odds\n",
    "table = pd.DataFrame({'probability':[0.1, 0.2, 0.25, 0.5, 0.6, 0.8, 0.9]})\n",
    "table['odds'] = table.probability/(1 - table.probability)\n",
    "table"
   ]
  },
  {
   "cell_type": "code",
   "execution_count": 272,
   "metadata": {
    "slideshow": {
     "slide_type": "slide"
    }
   },
   "outputs": [
    {
     "data": {
      "text/html": [
       "<div>\n",
       "<style scoped>\n",
       "    .dataframe tbody tr th:only-of-type {\n",
       "        vertical-align: middle;\n",
       "    }\n",
       "\n",
       "    .dataframe tbody tr th {\n",
       "        vertical-align: top;\n",
       "    }\n",
       "\n",
       "    .dataframe thead th {\n",
       "        text-align: right;\n",
       "    }\n",
       "</style>\n",
       "<table border=\"1\" class=\"dataframe\">\n",
       "  <thead>\n",
       "    <tr style=\"text-align: right;\">\n",
       "      <th></th>\n",
       "      <th>probability</th>\n",
       "      <th>odds</th>\n",
       "      <th>logodds</th>\n",
       "    </tr>\n",
       "  </thead>\n",
       "  <tbody>\n",
       "    <tr>\n",
       "      <th>0</th>\n",
       "      <td>0.10</td>\n",
       "      <td>0.111111</td>\n",
       "      <td>-2.197225</td>\n",
       "    </tr>\n",
       "    <tr>\n",
       "      <th>1</th>\n",
       "      <td>0.20</td>\n",
       "      <td>0.250000</td>\n",
       "      <td>-1.386294</td>\n",
       "    </tr>\n",
       "    <tr>\n",
       "      <th>2</th>\n",
       "      <td>0.25</td>\n",
       "      <td>0.333333</td>\n",
       "      <td>-1.098612</td>\n",
       "    </tr>\n",
       "    <tr>\n",
       "      <th>3</th>\n",
       "      <td>0.50</td>\n",
       "      <td>1.000000</td>\n",
       "      <td>0.000000</td>\n",
       "    </tr>\n",
       "    <tr>\n",
       "      <th>4</th>\n",
       "      <td>0.60</td>\n",
       "      <td>1.500000</td>\n",
       "      <td>0.405465</td>\n",
       "    </tr>\n",
       "    <tr>\n",
       "      <th>5</th>\n",
       "      <td>0.80</td>\n",
       "      <td>4.000000</td>\n",
       "      <td>1.386294</td>\n",
       "    </tr>\n",
       "    <tr>\n",
       "      <th>6</th>\n",
       "      <td>0.90</td>\n",
       "      <td>9.000000</td>\n",
       "      <td>2.197225</td>\n",
       "    </tr>\n",
       "  </tbody>\n",
       "</table>\n",
       "</div>"
      ],
      "text/plain": [
       "   probability      odds   logodds\n",
       "0         0.10  0.111111 -2.197225\n",
       "1         0.20  0.250000 -1.386294\n",
       "2         0.25  0.333333 -1.098612\n",
       "3         0.50  1.000000  0.000000\n",
       "4         0.60  1.500000  0.405465\n",
       "5         0.80  4.000000  1.386294\n",
       "6         0.90  9.000000  2.197225"
      ]
     },
     "execution_count": 272,
     "metadata": {},
     "output_type": "execute_result"
    }
   ],
   "source": [
    "# add log-odds to the table\n",
    "table['logodds'] = np.log(table.odds)\n",
    "table"
   ]
  },
  {
   "cell_type": "markdown",
   "metadata": {
    "slideshow": {
     "slide_type": "slide"
    }
   },
   "source": [
    "## Logistic Regression\n",
    "\n",
    "**Linear regression:** continuous response is modeled as a linear combination of the features:\n",
    "\n",
    "$$y = O_1x + O_2$$\n",
    "\n",
    "**Logistic regression:** log-odds of a categorical response being \"true\" (1) is modeled as a linear combination of the features:\n",
    "\n",
    "$$\\log \\left({p\\over 1-p}\\right) = O_1x + O_2$$\n",
    "\n",
    "This is called the **logit function**.\n"
   ]
  },
  {
   "cell_type": "markdown",
   "metadata": {
    "slideshow": {
     "slide_type": "slide"
    }
   },
   "source": [
    "## Logistic Regression\n",
    "\n",
    "- Models a categorical response: true (1) or false (0)\n",
    "- Model is fitted in the same way as linear regression\n",
    "    - computed based on the distribution of data\n",
    "- Model coefficients predict the __log odds__ of a category given input variables\n",
    "- Can convert these to a prediction of the category (most likely response)\n",
    "- Can convert to a measure of probability"
   ]
  },
  {
   "cell_type": "markdown",
   "metadata": {
    "slideshow": {
     "slide_type": "slide"
    }
   },
   "source": [
    "## Regression Models\n",
    "\n",
    "- Fit a linear model to a set of data to predict an outcome\n",
    "- Linear Regression for continuous variables\n",
    "- Logistic Regression for categorical variables\n",
    "- Model coefficients are obtained analytically (via a formula)\n",
    "- Model is highly interpretable\n",
    "- Can perform well with a small number of observations\n",
    "- Can use multiple input variables"
   ]
  },
  {
   "cell_type": "markdown",
   "metadata": {
    "slideshow": {
     "slide_type": "slide"
    }
   },
   "source": [
    "## Regression Models\n",
    "\n",
    "- Assumes a linear relationship\n",
    "- Assumes features are independant\n",
    "- Performance generally not as good as supervised learning models"
   ]
  }
 ],
 "metadata": {
  "celltoolbar": "Slideshow",
  "kernelspec": {
   "display_name": "Python 3",
   "language": "python",
   "name": "python3"
  },
  "language_info": {
   "codemirror_mode": {
    "name": "ipython",
    "version": 3
   },
   "file_extension": ".py",
   "mimetype": "text/x-python",
   "name": "python",
   "nbconvert_exporter": "python",
   "pygments_lexer": "ipython3",
   "version": "3.6.5"
  }
 },
 "nbformat": 4,
 "nbformat_minor": 2
}
