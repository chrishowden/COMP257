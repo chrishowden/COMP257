{
 "cells": [
  {
   "cell_type": "markdown",
   "metadata": {
    "slideshow": {
     "slide_type": "slide"
    }
   },
   "source": [
    "# COMP257 Week 3\n",
    "\n",
    "- Reading XML Data\n",
    "- Data Science methodology and workflow\n",
    "- Thinking about projects\n",
    "- Descriptive statistics\n",
    "- Privacy\n",
    "- Outliers"
   ]
  },
  {
   "cell_type": "markdown",
   "metadata": {
    "slideshow": {
     "slide_type": "slide"
    }
   },
   "source": [
    "## Reading XML Data\n",
    "\n",
    "- XML is a widely used file format for data on the web.\n",
    "- It is actually a document markup language like HTML, so it can represent quite complex structures. \n",
    "- However it is often used to store simple tabular data as well.\n",
    "\n",
    "Here's a [sample XML file](files/sample.xml).\n",
    "\n",
    "We can use the Python [xml ElementTree module](https://docs.python.org/3.6/library/xml.etree.elementtree.html)\n",
    "to parse XML data into a Python data structure.  In the case of this \n",
    "sample file, it consists of many &lt;record> elements each with four data points. We want to parse into \n",
    "a dataframe with four columns. \n"
   ]
  },
  {
   "cell_type": "code",
   "execution_count": 1,
   "metadata": {
    "slideshow": {
     "slide_type": "slide"
    }
   },
   "outputs": [
    {
     "name": "stdout",
     "output_type": "stream",
     "text": [
      "Name Hedy\n",
      "Date 2018-04-14T08:51:54-07:00\n",
      "City Sijsele\n",
      "Amount 105.06\n",
      "Name Indigo\n",
      "Date 2018-07-07T06:54:04-07:00\n",
      "City Panquehue\n",
      "Amount 103.76\n",
      "Name Jolene\n",
      "Date 2017-04-27T10:06:16-07:00\n",
      "City Dijon\n",
      "Amount 110.29\n",
      "Name Bradley\n",
      "Date 2017-11-11T07:26:54-08:00\n",
      "City Neuss\n",
      "Amount 94.8\n",
      "Name Clementine\n",
      "Date 2017-05-09T05:26:05-07:00\n",
      "City Helena\n",
      "Amount 96.83\n",
      "Name Ava\n",
      "Date 2018-04-21T00:46:05-07:00\n",
      "City Kayseri\n",
      "Amount 98.34\n",
      "Name Basia\n",
      "Date 2017-02-14T20:21:11-08:00\n",
      "City Monte Santa Maria Tiberina\n",
      "Amount 94.41\n",
      "Name Declan\n",
      "Date 2018-05-24T01:47:22-07:00\n",
      "City Champlain\n",
      "Amount 95.69\n",
      "Name Bernard\n",
      "Date 2017-07-11T09:45:20-07:00\n",
      "City Blaenau Ffestiniog\n",
      "Amount 100.71\n",
      "Name Shelley\n",
      "Date 2018-02-28T01:34:08-08:00\n",
      "City Ergani\n",
      "Amount 99.09\n",
      "Name Amanda\n",
      "Date 2017-07-28T16:09:47-07:00\n",
      "City Dallas\n",
      "Amount 103\n",
      "Name Benedict\n",
      "Date 2017-12-09T21:52:06-08:00\n",
      "City Sperlinga\n",
      "Amount 107.65\n",
      "Name Lamar\n",
      "Date 2017-11-07T09:04:12-08:00\n",
      "City Stralsund\n",
      "Amount 101.31\n",
      "Name Aiko\n",
      "Date 2016-09-06T01:58:15-07:00\n",
      "City Rovereto\n",
      "Amount 99.27\n",
      "Name Quamar\n",
      "Date 2017-01-02T11:40:34-08:00\n",
      "City Rosoux-Crenwick\n",
      "Amount 108.94\n",
      "Name Trevor\n",
      "Date 2016-12-23T23:05:25-08:00\n",
      "City Quillón\n",
      "Amount 102.85\n",
      "Name Quyn\n",
      "Date 2017-05-18T02:40:14-07:00\n",
      "City Scorrano\n",
      "Amount 107.43\n",
      "Name Orli\n",
      "Date 2017-05-22T21:17:46-07:00\n",
      "City Gurgaon\n",
      "Amount 96.9\n",
      "Name Asher\n",
      "Date 2017-06-27T22:37:34-07:00\n",
      "City Colmar\n",
      "Amount 95.82\n",
      "Name Noel\n",
      "Date 2017-01-10T23:47:47-08:00\n",
      "City Yahyalı\n",
      "Amount 101.18\n",
      "Name Kermit\n",
      "Date 2017-05-09T21:45:02-07:00\n",
      "City Sint-Genesius-Rode\n",
      "Amount 106.2\n",
      "Name Cassidy\n",
      "Date 2018-07-09T15:24:14-07:00\n",
      "City Ñuñoa\n",
      "Amount 98.59\n",
      "Name Harper\n",
      "Date 2017-12-20T15:56:09-08:00\n",
      "City Edam\n",
      "Amount 102.21\n",
      "Name Aileen\n",
      "Date 2017-04-03T18:48:49-07:00\n",
      "City Sijsele\n",
      "Amount 99\n",
      "Name Katelyn\n",
      "Date 2017-12-13T09:38:02-08:00\n",
      "City Berloz\n",
      "Amount 90.73\n",
      "Name Levi\n",
      "Date 2016-11-06T00:13:11-07:00\n",
      "City San Rafael Abajo\n",
      "Amount 100.01\n",
      "Name Venus\n",
      "Date 2017-04-19T09:33:45-07:00\n",
      "City Marabá\n",
      "Amount 101.3\n",
      "Name Miranda\n",
      "Date 2017-07-07T08:28:21-07:00\n",
      "City Provo\n",
      "Amount 104.25\n",
      "Name Dante\n",
      "Date 2016-09-10T14:10:12-07:00\n",
      "City Westkerke\n",
      "Amount 96.53\n",
      "Name Alexander\n",
      "Date 2017-02-12T04:46:54-08:00\n",
      "City Gasp�\n",
      "Amount 92.53\n",
      "Name Gary\n",
      "Date 2017-02-26T12:31:42-08:00\n",
      "City Omal\n",
      "Amount 101.12\n",
      "Name Noel\n",
      "Date 2017-05-14T21:14:34-07:00\n",
      "City Paris\n",
      "Amount 96.75\n",
      "Name Molly\n",
      "Date 2016-08-26T20:56:02-07:00\n",
      "City Rovereto\n",
      "Amount 99.04\n",
      "Name Nerea\n",
      "Date 2017-06-17T16:39:15-07:00\n",
      "City Maser\n",
      "Amount 100.25\n",
      "Name Aidan\n",
      "Date 2016-10-18T12:37:33-07:00\n",
      "City Malartic\n",
      "Amount 99.38\n",
      "Name Beck\n",
      "Date 2016-10-03T20:01:18-07:00\n",
      "City Romano d'Ezzelino\n",
      "Amount 97.83\n",
      "Name Dane\n",
      "Date 2017-01-14T00:04:39-08:00\n",
      "City Merbes-Sainte-Marie\n",
      "Amount 111.99\n",
      "Name Zoe\n",
      "Date 2017-06-22T21:18:15-07:00\n",
      "City Kidderminster\n",
      "Amount 111.39\n",
      "Name Arsenio\n",
      "Date 2016-12-19T09:34:18-08:00\n",
      "City Lichtaart\n",
      "Amount 92.69\n",
      "Name Grant\n",
      "Date 2016-09-29T02:40:11-07:00\n",
      "City Cáceres\n",
      "Amount 89.98\n",
      "Name Hector\n",
      "Date 2017-08-04T05:02:58-07:00\n",
      "City Ancarano\n",
      "Amount 99.9\n",
      "Name Igor\n",
      "Date 2017-04-29T20:50:19-07:00\n",
      "City Roccanova\n",
      "Amount 99.08\n",
      "Name Daquan\n",
      "Date 2017-04-15T16:37:48-07:00\n",
      "City Campochiaro\n",
      "Amount 96.72\n",
      "Name Tanya\n",
      "Date 2016-08-24T01:35:12-07:00\n",
      "City Neumünster\n",
      "Amount 97.98\n",
      "Name Fleur\n",
      "Date 2018-03-30T11:44:49-07:00\n",
      "City Bloomington\n",
      "Amount 88.31\n",
      "Name Kai\n",
      "Date 2016-09-26T04:25:05-07:00\n",
      "City Los Andes\n",
      "Amount 102.78\n",
      "Name Audra\n",
      "Date 2016-11-01T14:46:24-07:00\n",
      "City Walhain-Saint-Paul\n",
      "Amount 90.26\n",
      "Name Ivory\n",
      "Date 2018-02-21T15:28:14-08:00\n",
      "City Chełm\n",
      "Amount 89.4\n",
      "Name Tucker\n",
      "Date 2017-08-05T21:08:12-07:00\n",
      "City Basingstoke\n",
      "Amount 107.55\n",
      "Name Freya\n",
      "Date 2018-01-11T07:25:00-08:00\n",
      "City Borgomaro\n",
      "Amount 98.36\n",
      "Name Inez\n",
      "Date 2017-11-03T22:00:29-07:00\n",
      "City Molfetta\n",
      "Amount 100.16\n",
      "Name Ava\n",
      "Date 2018-03-08T04:29:24-08:00\n",
      "City Gualdo Tadino\n",
      "Amount 91.25\n",
      "Name Clio\n",
      "Date 2018-04-22T13:46:27-07:00\n",
      "City Gavirate\n",
      "Amount 102.67\n",
      "Name Claire\n",
      "Date 2017-08-24T18:43:00-07:00\n",
      "City North Las Vegas\n",
      "Amount 105.97\n",
      "Name Joshua\n",
      "Date 2017-06-19T11:26:58-07:00\n",
      "City VTM\n",
      "Amount 101.03\n",
      "Name Elvis\n",
      "Date 2016-11-05T21:53:06-07:00\n",
      "City Saint-Malo\n",
      "Amount 93.38\n",
      "Name Cooper\n",
      "Date 2018-03-23T23:02:25-07:00\n",
      "City Toledo\n",
      "Amount 86.5\n",
      "Name Grady\n",
      "Date 2016-09-17T06:10:04-07:00\n",
      "City Illapel\n",
      "Amount 100.44\n",
      "Name Ingrid\n",
      "Date 2017-06-12T17:16:55-07:00\n",
      "City Ligosullo\n",
      "Amount 111.34\n",
      "Name Brandon\n",
      "Date 2018-03-29T09:59:58-07:00\n",
      "City Coevorden\n",
      "Amount 92.28\n",
      "Name Naida\n",
      "Date 2017-05-26T16:42:54-07:00\n",
      "City Ambala\n",
      "Amount 108.19\n",
      "Name Rowan\n",
      "Date 2017-08-11T11:42:36-07:00\n",
      "City Villa Agnedo\n",
      "Amount 98.7\n",
      "Name Georgia\n",
      "Date 2017-05-23T16:50:07-07:00\n",
      "City Los Vilos\n",
      "Amount 105.64\n",
      "Name Lars\n",
      "Date 2017-11-07T02:18:39-08:00\n",
      "City Maidstone\n",
      "Amount 103.52\n",
      "Name Melodie\n",
      "Date 2017-10-20T05:52:32-07:00\n",
      "City Lanklaar\n",
      "Amount 103.73\n",
      "Name Bernard\n",
      "Date 2016-09-17T12:05:52-07:00\n",
      "City Regensburg\n",
      "Amount 90.59\n",
      "Name Dahlia\n",
      "Date 2016-11-05T10:49:48-07:00\n",
      "City Sorgà\n",
      "Amount 88.86\n",
      "Name Jakeem\n",
      "Date 2017-08-03T20:14:07-07:00\n",
      "City Weyburn\n",
      "Amount 103.52\n",
      "Name Ulysses\n",
      "Date 2017-11-07T09:33:37-08:00\n",
      "City Culemborg\n",
      "Amount 100.96\n",
      "Name Paul\n",
      "Date 2016-11-06T22:41:18-08:00\n",
      "City Satna\n",
      "Amount 91.3\n",
      "Name Yasir\n",
      "Date 2016-09-13T03:51:59-07:00\n",
      "City Bromley\n",
      "Amount 99.06\n",
      "Name Wallace\n",
      "Date 2018-04-09T17:55:08-07:00\n",
      "City Córdoba\n",
      "Amount 98.27\n",
      "Name Ciara\n",
      "Date 2017-02-11T07:35:02-08:00\n",
      "City Cirencester\n",
      "Amount 107.37\n",
      "Name Rachel\n",
      "Date 2016-12-16T20:03:51-08:00\n",
      "City Nogales\n",
      "Amount 100.49\n",
      "Name Winifred\n",
      "Date 2018-06-16T03:09:29-07:00\n",
      "City Zaffelare\n",
      "Amount 100.92\n",
      "Name Lars\n",
      "Date 2017-07-03T15:30:33-07:00\n",
      "City Ila\n",
      "Amount 94.86\n",
      "Name Blossom\n",
      "Date 2016-11-10T20:29:25-08:00\n",
      "City Sarre\n",
      "Amount 107.19\n",
      "Name Madeline\n",
      "Date 2016-09-29T15:55:39-07:00\n",
      "City Visso\n",
      "Amount 92.54\n",
      "Name Maxine\n",
      "Date 2017-09-02T20:06:10-07:00\n",
      "City Warisoulx\n",
      "Amount 106.18\n",
      "Name Rose\n",
      "Date 2016-11-26T12:30:38-08:00\n",
      "City Chestermere\n",
      "Amount 109.39\n",
      "Name Thor\n",
      "Date 2017-06-19T06:53:27-07:00\n",
      "City Fort Providence\n",
      "Amount 103.45\n",
      "Name Jakeem\n",
      "Date 2016-09-19T20:31:41-07:00\n",
      "City Zaanstad\n",
      "Amount 103.11\n",
      "Name Camilla\n",
      "Date 2017-03-31T07:54:04-07:00\n",
      "City Kraków\n",
      "Amount 97.53\n",
      "Name Forrest\n",
      "Date 2017-08-05T08:21:46-07:00\n",
      "City Neath\n",
      "Amount 102.61\n",
      "Name Jelani\n",
      "Date 2018-02-21T22:50:28-08:00\n",
      "City Clovenfords\n",
      "Amount 96.33\n",
      "Name Scarlet\n",
      "Date 2018-01-02T20:21:10-08:00\n",
      "City North Berwick\n",
      "Amount 102.8\n",
      "Name Sydney\n",
      "Date 2016-09-12T15:32:09-07:00\n",
      "City Pointe-aux-Trembles\n",
      "Amount 107.23\n",
      "Name Malcolm\n",
      "Date 2017-08-21T08:05:15-07:00\n",
      "City Sint-Lambrechts-Herk\n",
      "Amount 103.95\n",
      "Name Gretchen\n",
      "Date 2017-09-05T02:28:48-07:00\n",
      "City Linares\n",
      "Amount 104.51\n",
      "Name Drew\n",
      "Date 2016-12-24T06:48:52-08:00\n",
      "City Deurne\n",
      "Amount 109.36\n",
      "Name Olga\n",
      "Date 2018-06-16T22:15:26-07:00\n",
      "City Iqaluit\n",
      "Amount 99.24\n",
      "Name Debra\n",
      "Date 2017-02-11T03:42:37-08:00\n",
      "City Dunbar\n",
      "Amount 111.93\n",
      "Name Audra\n",
      "Date 2017-01-28T09:58:55-08:00\n",
      "City Vagli Sotto\n",
      "Amount 107.56\n",
      "Name Ignacia\n",
      "Date 2018-04-05T13:48:50-07:00\n",
      "City Billings\n",
      "Amount 99.25\n",
      "Name Summer\n",
      "Date 2017-02-09T23:09:02-08:00\n",
      "City Huizingen\n",
      "Amount 113.74\n",
      "Name Lesley\n",
      "Date 2017-08-29T04:35:51-07:00\n",
      "City Parla\n",
      "Amount 93.11\n",
      "Name Amelia\n",
      "Date 2018-03-01T13:47:04-08:00\n",
      "City Obaix\n",
      "Amount 93.88\n",
      "Name Devin\n",
      "Date 2017-02-04T05:37:12-08:00\n",
      "City Novo Hamburgo\n",
      "Amount 101.53\n",
      "Name Abdul\n",
      "Date 2018-07-06T08:55:19-07:00\n",
      "City Castelvetere in Val Fortore\n",
      "Amount 108.33\n",
      "Name Demetria\n",
      "Date 2018-02-03T16:04:08-08:00\n",
      "City Parkland County\n",
      "Amount 99.27\n"
     ]
    }
   ],
   "source": [
    "import pandas as pd\n",
    "import xml.etree.ElementTree as ET\n",
    "tree = ET.parse('files/sample.xml')\n",
    "root = tree.getroot()\n",
    "data = []\n",
    "for row in root:\n",
    "    # create a dictionary for each row\n",
    "    datarow = {}\n",
    "    for child in row:\n",
    "        print(child.tag, child.text)\n"
   ]
  },
  {
   "cell_type": "markdown",
   "metadata": {
    "slideshow": {
     "slide_type": "slide"
    }
   },
   "source": [
    "## Creating Data Frames\n",
    "\n",
    "- Want to create a `DataFrame` from the XML input\n",
    "- Tag names should translate to column names\n",
    "- Best option is to first make a __list of dictionaries__\n",
    "- One dictionary per row, then pass to `DataFrame` constructor"
   ]
  },
  {
   "cell_type": "code",
   "execution_count": 2,
   "metadata": {
    "slideshow": {
     "slide_type": "slide"
    }
   },
   "outputs": [
    {
     "data": {
      "text/html": [
       "<div>\n",
       "<style scoped>\n",
       "    .dataframe tbody tr th:only-of-type {\n",
       "        vertical-align: middle;\n",
       "    }\n",
       "\n",
       "    .dataframe tbody tr th {\n",
       "        vertical-align: top;\n",
       "    }\n",
       "\n",
       "    .dataframe thead th {\n",
       "        text-align: right;\n",
       "    }\n",
       "</style>\n",
       "<table border=\"1\" class=\"dataframe\">\n",
       "  <thead>\n",
       "    <tr style=\"text-align: right;\">\n",
       "      <th></th>\n",
       "      <th>Amount</th>\n",
       "      <th>City</th>\n",
       "      <th>Date</th>\n",
       "      <th>Name</th>\n",
       "    </tr>\n",
       "  </thead>\n",
       "  <tbody>\n",
       "    <tr>\n",
       "      <th>0</th>\n",
       "      <td>105.06</td>\n",
       "      <td>Sijsele</td>\n",
       "      <td>2018-04-14T08:51:54-07:00</td>\n",
       "      <td>Hedy</td>\n",
       "    </tr>\n",
       "    <tr>\n",
       "      <th>1</th>\n",
       "      <td>103.76</td>\n",
       "      <td>Panquehue</td>\n",
       "      <td>2018-07-07T06:54:04-07:00</td>\n",
       "      <td>Indigo</td>\n",
       "    </tr>\n",
       "    <tr>\n",
       "      <th>2</th>\n",
       "      <td>110.29</td>\n",
       "      <td>Dijon</td>\n",
       "      <td>2017-04-27T10:06:16-07:00</td>\n",
       "      <td>Jolene</td>\n",
       "    </tr>\n",
       "    <tr>\n",
       "      <th>3</th>\n",
       "      <td>94.8</td>\n",
       "      <td>Neuss</td>\n",
       "      <td>2017-11-11T07:26:54-08:00</td>\n",
       "      <td>Bradley</td>\n",
       "    </tr>\n",
       "    <tr>\n",
       "      <th>4</th>\n",
       "      <td>96.83</td>\n",
       "      <td>Helena</td>\n",
       "      <td>2017-05-09T05:26:05-07:00</td>\n",
       "      <td>Clementine</td>\n",
       "    </tr>\n",
       "  </tbody>\n",
       "</table>\n",
       "</div>"
      ],
      "text/plain": [
       "   Amount       City                       Date        Name\n",
       "0  105.06    Sijsele  2018-04-14T08:51:54-07:00        Hedy\n",
       "1  103.76  Panquehue  2018-07-07T06:54:04-07:00      Indigo\n",
       "2  110.29      Dijon  2017-04-27T10:06:16-07:00      Jolene\n",
       "3    94.8      Neuss  2017-11-11T07:26:54-08:00     Bradley\n",
       "4   96.83     Helena  2017-05-09T05:26:05-07:00  Clementine"
      ]
     },
     "execution_count": 2,
     "metadata": {},
     "output_type": "execute_result"
    }
   ],
   "source": [
    "tree = ET.parse('files/sample.xml')\n",
    "root = tree.getroot()\n",
    "data = []\n",
    "for row in root:\n",
    "    # create a dictionary for each row\n",
    "    datarow = {}\n",
    "    for child in row:\n",
    "        # dictionary key is the tag name, value is the text in the tag\n",
    "        datarow[child.tag] = child.text\n",
    "    data.append(datarow)\n",
    "    \n",
    "# now make a dataframe from this list of dictionaries\n",
    "df = pd.DataFrame(data)\n",
    "df.head()"
   ]
  },
  {
   "cell_type": "markdown",
   "metadata": {
    "slideshow": {
     "slide_type": "slide"
    }
   },
   "source": [
    "## Date Fields\n",
    "\n",
    "- In this example we have a field `Date` that is a date in ISO format\n",
    "- Eg. `2017-04-27T10:06:16-07:00`\n",
    "- Would be better to treat as a date rather than a string\n",
    "- Python has `datetime` objects to represent dates\n",
    "- Pandas provides `pd.to_datetime()` to convert a Series to datetimes (if they have the right format)"
   ]
  },
  {
   "cell_type": "code",
   "execution_count": 3,
   "metadata": {
    "slideshow": {
     "slide_type": "slide"
    }
   },
   "outputs": [
    {
     "data": {
      "text/html": [
       "<div>\n",
       "<style scoped>\n",
       "    .dataframe tbody tr th:only-of-type {\n",
       "        vertical-align: middle;\n",
       "    }\n",
       "\n",
       "    .dataframe tbody tr th {\n",
       "        vertical-align: top;\n",
       "    }\n",
       "\n",
       "    .dataframe thead th {\n",
       "        text-align: right;\n",
       "    }\n",
       "</style>\n",
       "<table border=\"1\" class=\"dataframe\">\n",
       "  <thead>\n",
       "    <tr style=\"text-align: right;\">\n",
       "      <th></th>\n",
       "      <th>Amount</th>\n",
       "      <th>City</th>\n",
       "      <th>Date</th>\n",
       "      <th>Name</th>\n",
       "    </tr>\n",
       "  </thead>\n",
       "  <tbody>\n",
       "    <tr>\n",
       "      <th>43</th>\n",
       "      <td>97.98</td>\n",
       "      <td>Neumünster</td>\n",
       "      <td>2016-08-24 08:35:12</td>\n",
       "      <td>Tanya</td>\n",
       "    </tr>\n",
       "    <tr>\n",
       "      <th>32</th>\n",
       "      <td>99.04</td>\n",
       "      <td>Rovereto</td>\n",
       "      <td>2016-08-27 03:56:02</td>\n",
       "      <td>Molly</td>\n",
       "    </tr>\n",
       "    <tr>\n",
       "      <th>13</th>\n",
       "      <td>99.27</td>\n",
       "      <td>Rovereto</td>\n",
       "      <td>2016-09-06 08:58:15</td>\n",
       "      <td>Aiko</td>\n",
       "    </tr>\n",
       "    <tr>\n",
       "      <th>28</th>\n",
       "      <td>96.53</td>\n",
       "      <td>Westkerke</td>\n",
       "      <td>2016-09-10 21:10:12</td>\n",
       "      <td>Dante</td>\n",
       "    </tr>\n",
       "    <tr>\n",
       "      <th>86</th>\n",
       "      <td>107.23</td>\n",
       "      <td>Pointe-aux-Trembles</td>\n",
       "      <td>2016-09-12 22:32:09</td>\n",
       "      <td>Sydney</td>\n",
       "    </tr>\n",
       "  </tbody>\n",
       "</table>\n",
       "</div>"
      ],
      "text/plain": [
       "    Amount                 City                Date    Name\n",
       "43   97.98           Neumünster 2016-08-24 08:35:12   Tanya\n",
       "32   99.04             Rovereto 2016-08-27 03:56:02   Molly\n",
       "13   99.27             Rovereto 2016-09-06 08:58:15    Aiko\n",
       "28   96.53            Westkerke 2016-09-10 21:10:12   Dante\n",
       "86  107.23  Pointe-aux-Trembles 2016-09-12 22:32:09  Sydney"
      ]
     },
     "execution_count": 3,
     "metadata": {},
     "output_type": "execute_result"
    }
   ],
   "source": [
    "df = pd.DataFrame(data)\n",
    "# sort on date\n",
    "df = df.sort_values('Date')\n",
    "# create a series from the dates as datetimes\n",
    "dates = pd.to_datetime(df.Date)\n",
    "df['Date'] = dates\n",
    "df.head()"
   ]
  },
  {
   "cell_type": "markdown",
   "metadata": {
    "slideshow": {
     "slide_type": "slide"
    }
   },
   "source": [
    "## Date field as Index\n",
    "\n",
    "- Recall that the index of a `DataFrame` or `Series` is used to access rows\n",
    "- By default this is a series of integers: 0, 1, 2, etc\n",
    "- But it can be any useful identifier\n",
    "- Useful to use these dates as the index\n",
    "- Our data frame then becomes a [time series](http://pandas.pydata.org/pandas-docs/stable/timeseries.html)"
   ]
  },
  {
   "cell_type": "code",
   "execution_count": 4,
   "metadata": {
    "slideshow": {
     "slide_type": "slide"
    }
   },
   "outputs": [
    {
     "data": {
      "text/html": [
       "<div>\n",
       "<style scoped>\n",
       "    .dataframe tbody tr th:only-of-type {\n",
       "        vertical-align: middle;\n",
       "    }\n",
       "\n",
       "    .dataframe tbody tr th {\n",
       "        vertical-align: top;\n",
       "    }\n",
       "\n",
       "    .dataframe thead th {\n",
       "        text-align: right;\n",
       "    }\n",
       "</style>\n",
       "<table border=\"1\" class=\"dataframe\">\n",
       "  <thead>\n",
       "    <tr style=\"text-align: right;\">\n",
       "      <th></th>\n",
       "      <th>Amount</th>\n",
       "      <th>City</th>\n",
       "      <th>Name</th>\n",
       "    </tr>\n",
       "    <tr>\n",
       "      <th>Date</th>\n",
       "      <th></th>\n",
       "      <th></th>\n",
       "      <th></th>\n",
       "    </tr>\n",
       "  </thead>\n",
       "  <tbody>\n",
       "    <tr>\n",
       "      <th>2016-08-24 08:35:12</th>\n",
       "      <td>97.98</td>\n",
       "      <td>Neumünster</td>\n",
       "      <td>Tanya</td>\n",
       "    </tr>\n",
       "    <tr>\n",
       "      <th>2016-08-27 03:56:02</th>\n",
       "      <td>99.04</td>\n",
       "      <td>Rovereto</td>\n",
       "      <td>Molly</td>\n",
       "    </tr>\n",
       "    <tr>\n",
       "      <th>2016-09-06 08:58:15</th>\n",
       "      <td>99.27</td>\n",
       "      <td>Rovereto</td>\n",
       "      <td>Aiko</td>\n",
       "    </tr>\n",
       "    <tr>\n",
       "      <th>2016-09-10 21:10:12</th>\n",
       "      <td>96.53</td>\n",
       "      <td>Westkerke</td>\n",
       "      <td>Dante</td>\n",
       "    </tr>\n",
       "    <tr>\n",
       "      <th>2016-09-12 22:32:09</th>\n",
       "      <td>107.23</td>\n",
       "      <td>Pointe-aux-Trembles</td>\n",
       "      <td>Sydney</td>\n",
       "    </tr>\n",
       "  </tbody>\n",
       "</table>\n",
       "</div>"
      ],
      "text/plain": [
       "                     Amount                 City    Name\n",
       "Date                                                    \n",
       "2016-08-24 08:35:12   97.98           Neumünster   Tanya\n",
       "2016-08-27 03:56:02   99.04             Rovereto   Molly\n",
       "2016-09-06 08:58:15   99.27             Rovereto    Aiko\n",
       "2016-09-10 21:10:12   96.53            Westkerke   Dante\n",
       "2016-09-12 22:32:09  107.23  Pointe-aux-Trembles  Sydney"
      ]
     },
     "execution_count": 4,
     "metadata": {},
     "output_type": "execute_result"
    }
   ],
   "source": [
    "df = pd.DataFrame(data)\n",
    "# sort on date\n",
    "df = df.sort_values('Date')\n",
    "# create a series from the dates as datetimes\n",
    "dates = pd.to_datetime(df.Date)\n",
    "# make this the index of the dataframe\n",
    "df.index = dates\n",
    "# remove the Date column (axis=1 means we're dropping a column, not rows)\n",
    "df.drop('Date', axis=1, inplace=True)\n",
    "df.head()"
   ]
  },
  {
   "cell_type": "code",
   "execution_count": 5,
   "metadata": {
    "slideshow": {
     "slide_type": "slide"
    }
   },
   "outputs": [
    {
     "data": {
      "text/html": [
       "<div>\n",
       "<style scoped>\n",
       "    .dataframe tbody tr th:only-of-type {\n",
       "        vertical-align: middle;\n",
       "    }\n",
       "\n",
       "    .dataframe tbody tr th {\n",
       "        vertical-align: top;\n",
       "    }\n",
       "\n",
       "    .dataframe thead th {\n",
       "        text-align: right;\n",
       "    }\n",
       "</style>\n",
       "<table border=\"1\" class=\"dataframe\">\n",
       "  <thead>\n",
       "    <tr style=\"text-align: right;\">\n",
       "      <th></th>\n",
       "      <th>Amount</th>\n",
       "      <th>City</th>\n",
       "      <th>Name</th>\n",
       "    </tr>\n",
       "    <tr>\n",
       "      <th>Date</th>\n",
       "      <th></th>\n",
       "      <th></th>\n",
       "      <th></th>\n",
       "    </tr>\n",
       "  </thead>\n",
       "  <tbody>\n",
       "    <tr>\n",
       "      <th>2016-09-06 08:58:15</th>\n",
       "      <td>99.27</td>\n",
       "      <td>Rovereto</td>\n",
       "      <td>Aiko</td>\n",
       "    </tr>\n",
       "    <tr>\n",
       "      <th>2016-09-10 21:10:12</th>\n",
       "      <td>96.53</td>\n",
       "      <td>Westkerke</td>\n",
       "      <td>Dante</td>\n",
       "    </tr>\n",
       "    <tr>\n",
       "      <th>2016-09-12 22:32:09</th>\n",
       "      <td>107.23</td>\n",
       "      <td>Pointe-aux-Trembles</td>\n",
       "      <td>Sydney</td>\n",
       "    </tr>\n",
       "    <tr>\n",
       "      <th>2016-09-13 10:51:59</th>\n",
       "      <td>99.06</td>\n",
       "      <td>Bromley</td>\n",
       "      <td>Yasir</td>\n",
       "    </tr>\n",
       "    <tr>\n",
       "      <th>2016-09-17 13:10:04</th>\n",
       "      <td>100.44</td>\n",
       "      <td>Illapel</td>\n",
       "      <td>Grady</td>\n",
       "    </tr>\n",
       "    <tr>\n",
       "      <th>2016-09-17 19:05:52</th>\n",
       "      <td>90.59</td>\n",
       "      <td>Regensburg</td>\n",
       "      <td>Bernard</td>\n",
       "    </tr>\n",
       "    <tr>\n",
       "      <th>2016-09-20 03:31:41</th>\n",
       "      <td>103.11</td>\n",
       "      <td>Zaanstad</td>\n",
       "      <td>Jakeem</td>\n",
       "    </tr>\n",
       "    <tr>\n",
       "      <th>2016-09-26 11:25:05</th>\n",
       "      <td>102.78</td>\n",
       "      <td>Los Andes</td>\n",
       "      <td>Kai</td>\n",
       "    </tr>\n",
       "    <tr>\n",
       "      <th>2016-09-29 09:40:11</th>\n",
       "      <td>89.98</td>\n",
       "      <td>Cáceres</td>\n",
       "      <td>Grant</td>\n",
       "    </tr>\n",
       "    <tr>\n",
       "      <th>2016-09-29 22:55:39</th>\n",
       "      <td>92.54</td>\n",
       "      <td>Visso</td>\n",
       "      <td>Madeline</td>\n",
       "    </tr>\n",
       "  </tbody>\n",
       "</table>\n",
       "</div>"
      ],
      "text/plain": [
       "                     Amount                 City      Name\n",
       "Date                                                      \n",
       "2016-09-06 08:58:15   99.27             Rovereto      Aiko\n",
       "2016-09-10 21:10:12   96.53            Westkerke     Dante\n",
       "2016-09-12 22:32:09  107.23  Pointe-aux-Trembles    Sydney\n",
       "2016-09-13 10:51:59   99.06              Bromley     Yasir\n",
       "2016-09-17 13:10:04  100.44              Illapel     Grady\n",
       "2016-09-17 19:05:52   90.59           Regensburg   Bernard\n",
       "2016-09-20 03:31:41  103.11             Zaanstad    Jakeem\n",
       "2016-09-26 11:25:05  102.78            Los Andes       Kai\n",
       "2016-09-29 09:40:11   89.98              Cáceres     Grant\n",
       "2016-09-29 22:55:39   92.54                Visso  Madeline"
      ]
     },
     "execution_count": 5,
     "metadata": {},
     "output_type": "execute_result"
    }
   ],
   "source": [
    "# having a datetime index means we can easily select rows for a given year etc\n",
    "df['2016-09']"
   ]
  },
  {
   "cell_type": "markdown",
   "metadata": {
    "slideshow": {
     "slide_type": "slide"
    }
   },
   "source": [
    "## Getting the index of a row\n",
    "\n",
    "- With the datetime as an index it is no longer a column in the data frame\n",
    "- Available as `df.index` rather than `df['Date']`"
   ]
  },
  {
   "cell_type": "code",
   "execution_count": 6,
   "metadata": {
    "slideshow": {
     "slide_type": "fragment"
    }
   },
   "outputs": [
    {
     "data": {
      "text/plain": [
       "Timestamp('2016-08-24 08:35:12')"
      ]
     },
     "execution_count": 6,
     "metadata": {},
     "output_type": "execute_result"
    }
   ],
   "source": [
    "df.index[0]"
   ]
  },
  {
   "cell_type": "markdown",
   "metadata": {
    "slideshow": {
     "slide_type": "slide"
    }
   },
   "source": [
    "## Working with rows\n",
    "\n",
    "- Many operations can be done on a `DataFrame` as a whole\n",
    "- More efficient to use these operations than iterating over rows\n",
    "- But sometimes that's what you need to do\n",
    "- Use the `df.iterrows()` method to iterate over rows\n",
    "- Each iteration yeilds the index and the row itself"
   ]
  },
  {
   "cell_type": "code",
   "execution_count": 7,
   "metadata": {
    "slideshow": {
     "slide_type": "slide"
    }
   },
   "outputs": [
    {
     "name": "stdout",
     "output_type": "stream",
     "text": [
      "2016-08-24 08:35:12 97.98\n",
      "2016-08-27 03:56:02 99.04\n",
      "2016-09-06 08:58:15 99.27\n",
      "2016-09-10 21:10:12 96.53\n",
      "2016-09-12 22:32:09 107.23\n",
      "2016-09-13 10:51:59 99.06\n",
      "2016-09-17 13:10:04 100.44\n",
      "2016-09-17 19:05:52 90.59\n",
      "2016-09-20 03:31:41 103.11\n",
      "2016-09-26 11:25:05 102.78\n"
     ]
    }
   ],
   "source": [
    "# make a smaller dataframe, just the first 10 rows\n",
    "small = df.iloc[:10]\n",
    "for index, row in small.iterrows():\n",
    "    print(index, row['Amount'])"
   ]
  },
  {
   "cell_type": "markdown",
   "metadata": {
    "slideshow": {
     "slide_type": "slide"
    }
   },
   "source": [
    "## Methodology\n",
    "\n",
    "<div style=\"float: left\">\n",
    "<a title=\"By Kenneth Jensen [CC BY-SA 3.0 (http://creativecommons.org/licenses/by-sa/3.0)], via Wikimedia Commons\" href=\"https://commons.wikimedia.org/wiki/File%3ACRISP-DM_Process_Diagram.png\"><img width=\"512\" alt=\"CRISP-DM Process Diagram\" src=\"https://upload.wikimedia.org/wikipedia/commons/thumb/b/b9/CRISP-DM_Process_Diagram.png/512px-CRISP-DM_Process_Diagram.png\"/></a>\n",
    "</div>\n",
    "\n",
    "This diagram illustrates the CRISP-DM process diagram.  CRISP-DM is a standardised workflow \n",
    "for Data Mining/Data Science that attempts to lay out a methodology to follow in a project.\n",
    "Compare with what you've seen about the software development lifecycle. "
   ]
  },
  {
   "cell_type": "markdown",
   "metadata": {
    "slideshow": {
     "slide_type": "notes"
    }
   },
   "source": [
    "[This post by Locke Data](https://itsalocke.com/crisp-dm/) gives a concise overview of the methodology. Note also the link included in that post to the Microsoft Team Data Science Process, that site provides quite a bit more detail. \n",
    "\n",
    "The methodology highlights the fact that there are many phases to a DS project apart from what we might understand as the 'real data science' part of data preparation and modelling.  Those core parts are the main skills we're learning about in this unit, but we need to see where they fit into the bigger picture.  In many ways they might not be the hardest part of a project. "
   ]
  },
  {
   "cell_type": "markdown",
   "metadata": {
    "slideshow": {
     "slide_type": "slide"
    }
   },
   "source": [
    "## Methodology\n",
    "\n",
    "- **Business Understanding** DS problems generally come out of some business need (or maybe from some scientific or humanities research goal).  So, understanding why the questions are being asked and how an answer might be used is important.\n",
    "- **Data Understanding** what data is available, what do the fields mean, what other data sources would we like to be able to access, assessing data quality"
   ]
  },
  {
   "cell_type": "markdown",
   "metadata": {
    "slideshow": {
     "slide_type": "slide"
    }
   },
   "source": [
    "## Methodology\n",
    "\n",
    "- **Data Preparation** and **Modelling** are the core processes we're learning how to do in Python\n",
    "- **Model Evaluation** how will you know if you've succeeded? Evaluation of the model with respect to business needs - are the predictions accurate enough to help the business?\n",
    "- **Deployment** is this a one off analysis that generates a report or a model that will be used repeatedly in some kind of production environment? Does it need to be updated as new data becomes available?"
   ]
  },
  {
   "cell_type": "markdown",
   "metadata": {
    "slideshow": {
     "slide_type": "slide"
    }
   },
   "source": [
    "## Sample DS Projects\n",
    "\n",
    "[A Gallery of Interesting Jupyter Notebooks](https://github.com/jupyter/jupyter/wiki/A-gallery-of-interesting-Jupyter-Notebooks#social-data) contains some interesting examples including\n",
    "- [Using Python to see how the Times writes about men and women](http://nbviewer.ipython.org/gist/5105037)\n",
    "- [An exploratory statistical analysis of the 2014 World Cup Final](http://nbviewer.jupyter.org/github/rjtavares/football-crunching/blob/master/notebooks/an%20exploratory%20data%20analysis%20of%20the%20world%20cup%20final.ipynb)\n",
    "- [St. Louis County Segregation Analysis](https://github.com/BuzzFeedNews/2014-08-st-louis-county-segregation) a notebook accompanying a Buzzfeed article\n",
    "\n",
    "[FiveThirtyEight](https://fivethirtyeight.com/) is a data backed news site and they publish datasets behind each of their stories [on github](https://github.com/fivethirtyeight/data). These provide some nice examples that you could try to reproduce or extend\n"
   ]
  },
  {
   "cell_type": "markdown",
   "metadata": {
    "slideshow": {
     "slide_type": "slide"
    }
   },
   "source": [
    "## Activity\n",
    "\n",
    "Brainstorming projects: each table should come up with some ideas for projects that you might\n",
    "do for your major project in COMP257 this semester.  \n",
    "Your suggested project should involve:\n",
    " - more than one dataset that you've found from a 'real world' source\n",
    " - presenting a statistical analysis\n",
    " - using a predictive model in some way\n",
    " - a clear hypothesis or question that you're trying to answer with your analysis"
   ]
  },
  {
   "cell_type": "markdown",
   "metadata": {
    "slideshow": {
     "slide_type": "slide"
    }
   },
   "source": [
    "## Descriptive Statistics\n",
    "\n",
    "One of the first things we can do with a new data set is to explore it and see what the main characteristics are. To do this we can look at e.g.:\n",
    "\n",
    "- size and shape of the data\n",
    "- range of values in columns\n",
    "- are there missing values\n",
    "- how are values distributed: mean, median, variance\n",
    "\n",
    "What does it mean if we find that the variance of our sample is very high on one variable? \n",
    "\n",
    "Does the mean and variance tell the whole story? "
   ]
  },
  {
   "cell_type": "code",
   "execution_count": 8,
   "metadata": {
    "slideshow": {
     "slide_type": "skip"
    }
   },
   "outputs": [],
   "source": [
    "import pandas as pd\n",
    "%matplotlib inline"
   ]
  },
  {
   "cell_type": "code",
   "execution_count": 9,
   "metadata": {
    "slideshow": {
     "slide_type": "slide"
    }
   },
   "outputs": [
    {
     "data": {
      "text/html": [
       "<div>\n",
       "<style scoped>\n",
       "    .dataframe tbody tr th:only-of-type {\n",
       "        vertical-align: middle;\n",
       "    }\n",
       "\n",
       "    .dataframe tbody tr th {\n",
       "        vertical-align: top;\n",
       "    }\n",
       "\n",
       "    .dataframe thead th {\n",
       "        text-align: right;\n",
       "    }\n",
       "</style>\n",
       "<table border=\"1\" class=\"dataframe\">\n",
       "  <thead>\n",
       "    <tr style=\"text-align: right;\">\n",
       "      <th></th>\n",
       "      <th>x</th>\n",
       "      <th>y</th>\n",
       "    </tr>\n",
       "  </thead>\n",
       "  <tbody>\n",
       "    <tr>\n",
       "      <th>0</th>\n",
       "      <td>55.3846</td>\n",
       "      <td>97.1795</td>\n",
       "    </tr>\n",
       "    <tr>\n",
       "      <th>1</th>\n",
       "      <td>51.5385</td>\n",
       "      <td>96.0256</td>\n",
       "    </tr>\n",
       "    <tr>\n",
       "      <th>2</th>\n",
       "      <td>46.1538</td>\n",
       "      <td>94.4872</td>\n",
       "    </tr>\n",
       "    <tr>\n",
       "      <th>3</th>\n",
       "      <td>42.8205</td>\n",
       "      <td>91.4103</td>\n",
       "    </tr>\n",
       "    <tr>\n",
       "      <th>4</th>\n",
       "      <td>40.7692</td>\n",
       "      <td>88.3333</td>\n",
       "    </tr>\n",
       "  </tbody>\n",
       "</table>\n",
       "</div>"
      ],
      "text/plain": [
       "         x        y\n",
       "0  55.3846  97.1795\n",
       "1  51.5385  96.0256\n",
       "2  46.1538  94.4872\n",
       "3  42.8205  91.4103\n",
       "4  40.7692  88.3333"
      ]
     },
     "execution_count": 9,
     "metadata": {},
     "output_type": "execute_result"
    }
   ],
   "source": [
    "ds1 = pd.read_csv(\"files/ds1.csv\")\n",
    "ds2 = pd.read_csv(\"files/ds2.csv\")\n",
    "ds3 = pd.read_csv(\"files/ds3.csv\")\n",
    "ds1.head()"
   ]
  },
  {
   "cell_type": "code",
   "execution_count": 10,
   "metadata": {
    "scrolled": true,
    "slideshow": {
     "slide_type": "slide"
    }
   },
   "outputs": [
    {
     "data": {
      "text/plain": [
       "<matplotlib.axes._subplots.AxesSubplot at 0x7f64ecf3e240>"
      ]
     },
     "execution_count": 10,
     "metadata": {},
     "output_type": "execute_result"
    },
    {
     "data": {
      "image/png": "[encoded data removed]",
      "text/plain": [
       "<Figure size 432x288 with 1 Axes>"
      ]
     },
     "metadata": {},
     "output_type": "display_data"
    }
   ],
   "source": [
    "# look at summary stats for ds[123]\n",
    "ds1.plot('x', 'y', kind='scatter')"
   ]
  },
  {
   "cell_type": "code",
   "execution_count": 11,
   "metadata": {
    "slideshow": {
     "slide_type": "slide"
    }
   },
   "outputs": [
    {
     "data": {
      "text/plain": [
       "<matplotlib.axes._subplots.AxesSubplot at 0x7f64ecf1c278>"
      ]
     },
     "execution_count": 11,
     "metadata": {},
     "output_type": "execute_result"
    },
    {
     "data": {
      "image/png": "[encoded data removed]",
      "text/plain": [
       "<Figure size 432x288 with 1 Axes>"
      ]
     },
     "metadata": {},
     "output_type": "display_data"
    }
   ],
   "source": [
    "ds2.plot('x', 'y', kind='scatter')"
   ]
  },
  {
   "cell_type": "markdown",
   "metadata": {
    "slideshow": {
     "slide_type": "slide"
    }
   },
   "source": [
    "That data comes from [the Datasaurus Dozen](https://www.autodeskresearch.com/publications/samestats) and is designed to illustrate the point that your initial exploration of the data should include some visulalisation since summary statistics don't give the full story."
   ]
  },
  {
   "cell_type": "markdown",
   "metadata": {
    "slideshow": {
     "slide_type": "slide"
    }
   },
   "source": [
    "## A Sample Dataset - Grades\n",
    "\n",
    "Let's look at a sample dataset from a University course containing the students ATAR and their final grade and mark for the course.  (__Note: this file is not included in the download__)\n",
    "\n",
    "Firstly, let's consider what kind of business questions we might be able to answer with this kind of data.  Imagine you were working in the University Analyitics group and had access to all of the data about student results and past performance, and all of the degree structure information.  What kind of questions might you be able to answer with this data that might help the University in some way? \n",
    "\n",
    "Now let's explore the data a little."
   ]
  },
  {
   "cell_type": "code",
   "execution_count": 12,
   "metadata": {
    "slideshow": {
     "slide_type": "slide"
    }
   },
   "outputs": [
    {
     "data": {
      "text/html": [
       "<div>\n",
       "<style scoped>\n",
       "    .dataframe tbody tr th:only-of-type {\n",
       "        vertical-align: middle;\n",
       "    }\n",
       "\n",
       "    .dataframe tbody tr th {\n",
       "        vertical-align: top;\n",
       "    }\n",
       "\n",
       "    .dataframe thead th {\n",
       "        text-align: right;\n",
       "    }\n",
       "</style>\n",
       "<table border=\"1\" class=\"dataframe\">\n",
       "  <thead>\n",
       "    <tr style=\"text-align: right;\">\n",
       "      <th></th>\n",
       "      <th>ATAR</th>\n",
       "      <th>Grade</th>\n",
       "      <th>Mark</th>\n",
       "    </tr>\n",
       "  </thead>\n",
       "  <tbody>\n",
       "    <tr>\n",
       "      <th>0</th>\n",
       "      <td>52.40</td>\n",
       "      <td>F</td>\n",
       "      <td>33.0</td>\n",
       "    </tr>\n",
       "    <tr>\n",
       "      <th>1</th>\n",
       "      <td>67.45</td>\n",
       "      <td>D</td>\n",
       "      <td>82.0</td>\n",
       "    </tr>\n",
       "    <tr>\n",
       "      <th>2</th>\n",
       "      <td>63.45</td>\n",
       "      <td>W</td>\n",
       "      <td>0.0</td>\n",
       "    </tr>\n",
       "    <tr>\n",
       "      <th>3</th>\n",
       "      <td>64.35</td>\n",
       "      <td>W</td>\n",
       "      <td>0.0</td>\n",
       "    </tr>\n",
       "    <tr>\n",
       "      <th>4</th>\n",
       "      <td>66.30</td>\n",
       "      <td>W</td>\n",
       "      <td>0.0</td>\n",
       "    </tr>\n",
       "  </tbody>\n",
       "</table>\n",
       "</div>"
      ],
      "text/plain": [
       "    ATAR Grade  Mark\n",
       "0  52.40     F  33.0\n",
       "1  67.45     D  82.0\n",
       "2  63.45     W   0.0\n",
       "3  64.35     W   0.0\n",
       "4  66.30     W   0.0"
      ]
     },
     "execution_count": 12,
     "metadata": {},
     "output_type": "execute_result"
    }
   ],
   "source": [
    "# read some data for grades vs ATAR \n",
    "grades = pd.read_csv(\"files/grades.csv\")\n",
    "grades.head()"
   ]
  },
  {
   "cell_type": "code",
   "execution_count": 13,
   "metadata": {
    "slideshow": {
     "slide_type": "slide"
    }
   },
   "outputs": [
    {
     "data": {
      "text/plain": [
       "<matplotlib.axes._subplots.AxesSubplot at 0x7f64eaddec50>"
      ]
     },
     "execution_count": 13,
     "metadata": {},
     "output_type": "execute_result"
    },
    {
     "data": {
      "image/png": "[encoded data removed]",
      "text/plain": [
       "<Figure size 432x288 with 1 Axes>"
      ]
     },
     "metadata": {},
     "output_type": "display_data"
    }
   ],
   "source": [
    "# let's explore\n",
    "grades.plot('ATAR', 'Mark', kind='scatter')"
   ]
  },
  {
   "cell_type": "code",
   "execution_count": 14,
   "metadata": {
    "slideshow": {
     "slide_type": "slide"
    }
   },
   "outputs": [
    {
     "data": {
      "text/plain": [
       "<matplotlib.axes._subplots.AxesSubplot at 0x7f64eae736d8>"
      ]
     },
     "execution_count": 14,
     "metadata": {},
     "output_type": "execute_result"
    },
    {
     "data": {
      "image/png": "[encoded data removed]",
      "text/plain": [
       "<Figure size 432x288 with 1 Axes>"
      ]
     },
     "metadata": {},
     "output_type": "display_data"
    }
   ],
   "source": [
    "# let's remove any with no ATAR and zero marks\n",
    "grades = grades.drop(grades.index[(grades.Mark == 0) & (grades.ATAR == 0)])\n",
    "\n",
    "# now look at those students with no ATAR\n",
    "noatar = grades[(grades.ATAR == 0)]\n",
    "# plot their distribution\n",
    "noatar.Mark.hist(bins=25)"
   ]
  },
  {
   "cell_type": "code",
   "execution_count": 15,
   "metadata": {
    "slideshow": {
     "slide_type": "slide"
    }
   },
   "outputs": [
    {
     "name": "stdout",
     "output_type": "stream",
     "text": [
      "Grade\n",
      "CR    16\n",
      "D     14\n",
      "F     18\n",
      "HD    29\n",
      "IS     3\n",
      "P     11\n",
      "dtype: int64\n"
     ]
    },
    {
     "data": {
      "text/plain": [
       "<matplotlib.axes._subplots.AxesSubplot at 0x7f64ead66d30>"
      ]
     },
     "execution_count": 15,
     "metadata": {},
     "output_type": "execute_result"
    },
    {
     "data": {
      "image/png": "[encoded data removed]",
      "text/plain": [
       "<Figure size 432x288 with 1 Axes>"
      ]
     },
     "metadata": {},
     "output_type": "display_data"
    }
   ],
   "source": [
    "# looks like many of them did very well, we could check their grades\n",
    "noatar_grades = noatar.groupby('Grade').size()\n",
    "print(noatar_grades)\n",
    "noatar_grades.plot.bar()"
   ]
  },
  {
   "cell_type": "markdown",
   "metadata": {
    "slideshow": {
     "slide_type": "slide"
    }
   },
   "source": [
    "## Pass vs Fail \n",
    "Split into pass and fail groups and check the mean ATAR of each group"
   ]
  },
  {
   "cell_type": "code",
   "execution_count": 16,
   "metadata": {
    "slideshow": {
     "slide_type": "fragment"
    }
   },
   "outputs": [
    {
     "name": "stdout",
     "output_type": "stream",
     "text": [
      "PASS: 62.1611464968\n",
      "FAIL: 60.2252136752\n"
     ]
    }
   ],
   "source": [
    "pass_students = grades[(grades.Mark >= 50)]\n",
    "fail_students = grades[(grades.Mark < 50)]\n",
    "\n",
    "print(\"PASS:\", pass_students.ATAR.mean())\n",
    "print(\"FAIL:\", fail_students.ATAR.mean())"
   ]
  },
  {
   "cell_type": "code",
   "execution_count": 17,
   "metadata": {
    "slideshow": {
     "slide_type": "fragment"
    }
   },
   "outputs": [
    {
     "name": "stdout",
     "output_type": "stream",
     "text": [
      "PASS:  27.6614384782\n",
      "FAIL:  21.5334210984\n"
     ]
    }
   ],
   "source": [
    "# they aren't too different, what about the standard deviation\n",
    "print(\"PASS: \", pass_students.ATAR.std())\n",
    "print(\"FAIL: \", fail_students.ATAR.std())"
   ]
  },
  {
   "cell_type": "code",
   "execution_count": 18,
   "metadata": {
    "slideshow": {
     "slide_type": "slide"
    }
   },
   "outputs": [
    {
     "data": {
      "text/plain": [
       "<matplotlib.axes._subplots.AxesSubplot at 0x7f64eac51518>"
      ]
     },
     "execution_count": 18,
     "metadata": {},
     "output_type": "execute_result"
    },
    {
     "data": {
      "image/png": "[encoded data removed]",
      "text/plain": [
       "<Figure size 432x288 with 1 Axes>"
      ]
     },
     "metadata": {},
     "output_type": "display_data"
    }
   ],
   "source": [
    "# now let's remove all zeros and see the distribution\n",
    "nonzero = grades.drop(grades.index[(grades.Mark == 0) | (grades.ATAR == 0)])\n",
    "nonzero.plot(x='ATAR', y='Mark', color='red', kind='scatter')"
   ]
  },
  {
   "cell_type": "markdown",
   "metadata": {
    "slideshow": {
     "slide_type": "slide"
    }
   },
   "source": [
    "## Privacy \n",
    "\n",
    "I just gave you some potentially private data about students, their ATAR and their grades.  It doesn't include\n",
    "any identifying information but if I told you which unit it was from which year that might allow you to make\n",
    "some inferences.   \n",
    "\n",
    "Say it was the year you did this unit and you knew that your friend got five more marks than you. This \n",
    "would potentially allow you to find their ATAR. I've now leaked a bit of personal information about \n",
    "someone else to you. (In my defense, in this data there are only 4 cases where \n",
    "only one student got a given mark, so the probability of revealing ATAR for an individual is low). "
   ]
  },
  {
   "cell_type": "markdown",
   "metadata": {
    "slideshow": {
     "slide_type": "slide"
    }
   },
   "source": [
    "## Privacy\n",
    "\n",
    "This is a relatively benign example - knowing someone's ATAR is not really that useful although it might \n",
    "be a bit embarrasing in some cases.   However it could be a piece in a larger puzzle that is gathered from \n",
    "this and other datasets.  Each one might not reveal much or anything, but linked to another dataset \n",
    "with common information might reveal much more. \n"
   ]
  },
  {
   "cell_type": "markdown",
   "metadata": {
    "slideshow": {
     "slide_type": "slide"
    }
   },
   "source": [
    "## Privacy\n",
    "\n",
    "The [Australian Privacy Principles](https://www.oaic.gov.au/privacy-law/privacy-act/australian-privacy-principles) \n",
    "outline the responsibilities of organisations who hold private information on people and how it can be \n",
    "collected, used and released.   Note [this comment](https://theconversation.com/australias-privacy-laws-gutted-in-court-ruling-on-what-is-personal-information-71486) \n",
    "on a Federal Court case that ruled that only data that directly identifies an individual is 'private data' \n",
    "under the act in contrast with the regimes in other countries."
   ]
  },
  {
   "cell_type": "markdown",
   "metadata": {
    "slideshow": {
     "slide_type": "slide"
    }
   },
   "source": [
    "## Outliers\n",
    "\n",
    "Many datasets will contain errors of some kind that will show in the data as outliers.  These will alter\n",
    "the distribution of the data and get in the way of being able to accurately model the data. So, it is \n",
    "in our interests to remove these outliers. "
   ]
  },
  {
   "cell_type": "markdown",
   "metadata": {
    "slideshow": {
     "slide_type": "slide"
    }
   },
   "source": [
    "## Identifying Outliers\n",
    "\n",
    "To identify outliers we need to know what normal is - so the descriptive statistics described earlier \n",
    "play a part in determining what is unusual.  \n",
    "\n",
    "A common assumption (or model) is a **normal distribution** for the data. Normally distributed data will be \n",
    "evenly distributed around the mean with fewer points the further away from the mean you go.  If this is\n",
    "the case we could define an outlier as a point that falls some number of standard deviations away from\n",
    "the mean.  There are some [tests for outliers](http://www.itl.nist.gov/div898/handbook/eda/section3/eda35h.htm)\n",
    "based on this idea. "
   ]
  },
  {
   "cell_type": "markdown",
   "metadata": {
    "slideshow": {
     "slide_type": "slide"
    }
   },
   "source": [
    "## Identifying Outliers\n",
    "\n",
    "Another way to look for outliers is based on our understanding of the data. In the Adult data used in\n",
    "the text (and the practical) they exclude high income earners below 22 and above 72 because such people\n",
    "are not very likely to be able to earn that much.  **How valid is this?**"
   ]
  },
  {
   "cell_type": "markdown",
   "metadata": {
    "slideshow": {
     "slide_type": "slide"
    }
   },
   "source": [
    "## Why are they there?\n",
    "\n",
    "While outliers might get in the way of good modelling, they are there for a reason. That could be just a human\n",
    "or instrument error when collecting the data or it could be some higher order effect that is \n",
    "informative in itself. \n",
    "\n",
    "Outliers in the grades data:\n",
    "- People without an ATAR\n",
    "- Poeple who withdrew from the unit"
   ]
  },
  {
   "cell_type": "markdown",
   "metadata": {
    "slideshow": {
     "slide_type": "slide"
    }
   },
   "source": [
    "## Filtering data\n",
    "\n",
    "Look at some examples of filtering data to identify and remove outliers.\n",
    "\n",
    "Boolean series created from comparisons of a variable in a data frame."
   ]
  },
  {
   "cell_type": "code",
   "execution_count": 19,
   "metadata": {
    "slideshow": {
     "slide_type": "fragment"
    }
   },
   "outputs": [
    {
     "data": {
      "text/html": [
       "<div>\n",
       "<style scoped>\n",
       "    .dataframe tbody tr th:only-of-type {\n",
       "        vertical-align: middle;\n",
       "    }\n",
       "\n",
       "    .dataframe tbody tr th {\n",
       "        vertical-align: top;\n",
       "    }\n",
       "\n",
       "    .dataframe thead th {\n",
       "        text-align: right;\n",
       "    }\n",
       "</style>\n",
       "<table border=\"1\" class=\"dataframe\">\n",
       "  <thead>\n",
       "    <tr style=\"text-align: right;\">\n",
       "      <th></th>\n",
       "      <th>ATAR</th>\n",
       "      <th>Mark</th>\n",
       "    </tr>\n",
       "  </thead>\n",
       "  <tbody>\n",
       "    <tr>\n",
       "      <th>count</th>\n",
       "      <td>618.000000</td>\n",
       "      <td>598.000000</td>\n",
       "    </tr>\n",
       "    <tr>\n",
       "      <th>mean</th>\n",
       "      <td>60.771683</td>\n",
       "      <td>69.832776</td>\n",
       "    </tr>\n",
       "    <tr>\n",
       "      <th>std</th>\n",
       "      <td>27.268273</td>\n",
       "      <td>18.999131</td>\n",
       "    </tr>\n",
       "    <tr>\n",
       "      <th>min</th>\n",
       "      <td>0.000000</td>\n",
       "      <td>23.000000</td>\n",
       "    </tr>\n",
       "    <tr>\n",
       "      <th>25%</th>\n",
       "      <td>59.037500</td>\n",
       "      <td>57.250000</td>\n",
       "    </tr>\n",
       "    <tr>\n",
       "      <th>50%</th>\n",
       "      <td>70.125000</td>\n",
       "      <td>74.000000</td>\n",
       "    </tr>\n",
       "    <tr>\n",
       "      <th>75%</th>\n",
       "      <td>76.950000</td>\n",
       "      <td>85.000000</td>\n",
       "    </tr>\n",
       "    <tr>\n",
       "      <th>max</th>\n",
       "      <td>98.650000</td>\n",
       "      <td>98.000000</td>\n",
       "    </tr>\n",
       "  </tbody>\n",
       "</table>\n",
       "</div>"
      ],
      "text/plain": [
       "             ATAR        Mark\n",
       "count  618.000000  598.000000\n",
       "mean    60.771683   69.832776\n",
       "std     27.268273   18.999131\n",
       "min      0.000000   23.000000\n",
       "25%     59.037500   57.250000\n",
       "50%     70.125000   74.000000\n",
       "75%     76.950000   85.000000\n",
       "max     98.650000   98.000000"
      ]
     },
     "execution_count": 19,
     "metadata": {},
     "output_type": "execute_result"
    }
   ],
   "source": [
    "# Find marks that are zero and remove them \n",
    "zeros = (grades.Mark == 0) \n",
    "grades_no_zeros = grades.drop(grades.index[zeros])\n",
    "grades_no_zeros.describe()\n",
    "## see more worked examples above"
   ]
  }
 ],
 "metadata": {
  "celltoolbar": "Slideshow",
  "kernelspec": {
   "display_name": "Python 3",
   "language": "python",
   "name": "python3"
  },
  "language_info": {
   "codemirror_mode": {
    "name": "ipython",
    "version": 3
   },
   "file_extension": ".py",
   "mimetype": "text/x-python",
   "name": "python",
   "nbconvert_exporter": "python",
   "pygments_lexer": "ipython3",
   "version": "3.6.5"
  }
 },
 "nbformat": 4,
 "nbformat_minor": 2
}
